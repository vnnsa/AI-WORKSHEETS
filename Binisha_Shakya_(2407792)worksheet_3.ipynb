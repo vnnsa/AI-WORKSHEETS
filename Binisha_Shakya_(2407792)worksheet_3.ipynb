{
  "cells": [
    {
      "cell_type": "markdown",
      "metadata": {
        "id": "C0oCP7ctSESX"
      },
      "source": [
        "Binisha Shakya (2407792)"
      ]
    },
    {
      "cell_type": "markdown",
      "metadata": {
        "id": "eV21VK1xitQN"
      },
      "source": [
        "**To - Do - Task**\n",
        "\n",
        "Please Complete all the problem listed below."
      ]
    },
    {
      "cell_type": "markdown",
      "metadata": {
        "id": "LWlpAWGWjA2N"
      },
      "source": [
        "# 3.1 Warm Up Exercises:\n",
        "\n"
      ]
    },
    {
      "cell_type": "markdown",
      "metadata": {
        "id": "p86V2AwhjJgO"
      },
      "source": [
        "**1. Sorting and Subsetting:**\n",
        "\n",
        "**Complete all following Task:**\n",
        "\n",
        "• Dataset for the Task: \"titanic.csv\"\n",
        "Following task is common for all the problem:\n",
        "1. Load the provided dataset and import in pandas DataFrame.\n",
        "2. Check info of the DataFrame and identify following:\n",
        "\n",
        "**Problem 1 - Sorting:**\n",
        "1. Create a DataFrame called fare that contains only the Fare column of the Titanic dataset. Print the\n",
        "head of the result.\n",
        "2. Create a DataFrame called class age that contains only the Pclass and Age columns of the Titanic\n",
        "dataset, in that order. Print the head of the result.\n",
        "3. Create a DataFrame called survived gender that contains the Survived and Sex columns of the\n",
        "Titanic dataset, in that order.Print the head of the result."
      ]
    },
    {
      "cell_type": "markdown",
      "metadata": {
        "id": "WebjE7y6lH78"
      },
      "source": [
        "1. Load the provided dataset and import in pandas DataFrame."
      ]
    },
    {
      "cell_type": "code",
      "execution_count": null,
      "metadata": {
        "colab": {
          "base_uri": "https://localhost:8080/"
        },
        "id": "O2d32biohgcD",
        "outputId": "5a8650e0-4dfe-4a00-a0be-108f87433bac"
      },
      "outputs": [
        {
          "name": "stdout",
          "output_type": "stream",
          "text": [
            "<class 'pandas.core.frame.DataFrame'>\n",
            "RangeIndex: 891 entries, 0 to 890\n",
            "Data columns (total 12 columns):\n",
            " #   Column       Non-Null Count  Dtype  \n",
            "---  ------       --------------  -----  \n",
            " 0   PassengerId  891 non-null    int64  \n",
            " 1   Survived     891 non-null    int64  \n",
            " 2   Pclass       891 non-null    int64  \n",
            " 3   Name         891 non-null    object \n",
            " 4   Sex          891 non-null    object \n",
            " 5   Age          714 non-null    float64\n",
            " 6   SibSp        891 non-null    int64  \n",
            " 7   Parch        891 non-null    int64  \n",
            " 8   Ticket       891 non-null    object \n",
            " 9   Fare         891 non-null    float64\n",
            " 10  Cabin        204 non-null    object \n",
            " 11  Embarked     889 non-null    object \n",
            "dtypes: float64(2), int64(5), object(5)\n",
            "memory usage: 83.7+ KB\n"
          ]
        }
      ],
      "source": [
        "import pandas as pd\n",
        "\n",
        "titanic_info = pd.read_csv('/content/drive/MyDrive/Concept and Tech of AI-Workshops/CSV-Files/Datasets/Titanic-Dataset.csv')\n",
        "df_titanic = pd.DataFrame(titanic_info)\n",
        "df_titanic.info()"
      ]
    },
    {
      "cell_type": "markdown",
      "metadata": {
        "id": "6aFbyhG3lPw2"
      },
      "source": [
        "Problem 1 - Sorting:\n",
        "\n",
        "1. Create a DataFrame called fare that contains only the Fare column of the Titanic dataset. Print the head of the result."
      ]
    },
    {
      "cell_type": "code",
      "execution_count": null,
      "metadata": {
        "colab": {
          "base_uri": "https://localhost:8080/"
        },
        "id": "EVVigKAnlUGL",
        "outputId": "c6be986e-3bfc-4c66-e94a-a79dd7517166"
      },
      "outputs": [
        {
          "name": "stdout",
          "output_type": "stream",
          "text": [
            "0     7.2500\n",
            "1    71.2833\n",
            "2     7.9250\n",
            "3    53.1000\n",
            "4     8.0500\n",
            "Name: Fare, dtype: float64\n"
          ]
        }
      ],
      "source": [
        "fare = df_titanic['Fare']\n",
        "print(fare.head())"
      ]
    },
    {
      "cell_type": "markdown",
      "metadata": {
        "id": "8AaO5xMJmBKl"
      },
      "source": [
        "2. Create a DataFrame called class age that contains only the Pclass and Age columns of the Titanic\n",
        "dataset, in that order. Print the head of the result."
      ]
    },
    {
      "cell_type": "code",
      "execution_count": null,
      "metadata": {
        "colab": {
          "base_uri": "https://localhost:8080/"
        },
        "id": "ehA2jJrGmFhn",
        "outputId": "dfbdf9c0-73ba-4fd7-9ded-38f6ad6ac793"
      },
      "outputs": [
        {
          "name": "stdout",
          "output_type": "stream",
          "text": [
            "   Pclass   Age\n",
            "0       3  22.0\n",
            "1       1  38.0\n",
            "2       3  26.0\n",
            "3       1  35.0\n",
            "4       3  35.0\n"
          ]
        }
      ],
      "source": [
        "class_age = df_titanic[['Pclass', 'Age']]\n",
        "print(class_age.head())"
      ]
    },
    {
      "cell_type": "markdown",
      "metadata": {
        "id": "DSuWeZXZmYwh"
      },
      "source": [
        "3. Create a DataFrame called survived gender that contains the Survived and Sex columns of the\n",
        "Titanic dataset, in that order.Print the head of the result."
      ]
    },
    {
      "cell_type": "code",
      "execution_count": null,
      "metadata": {
        "colab": {
          "base_uri": "https://localhost:8080/"
        },
        "id": "PM47erbumeWZ",
        "outputId": "d41c608a-5967-49a4-85ec-9758a0f1937a"
      },
      "outputs": [
        {
          "name": "stdout",
          "output_type": "stream",
          "text": [
            "   Survived     Sex\n",
            "0         0    male\n",
            "1         1  female\n",
            "2         1  female\n",
            "3         1  female\n",
            "4         0    male\n"
          ]
        }
      ],
      "source": [
        "Survived_gender = df_titanic[['Survived', 'Sex']]\n",
        "print(Survived_gender.head())"
      ]
    },
    {
      "cell_type": "markdown",
      "metadata": {
        "id": "wnEmmRu6mEW2"
      },
      "source": [
        "**Problem - 2 - Subsetting:**\n",
        "\n",
        "Complete all the following Task:"
      ]
    },
    {
      "cell_type": "markdown",
      "metadata": {
        "id": "uPjSCjFlmt_F"
      },
      "source": [
        "Subsetting Rows:\n",
        "1. Filter the Titanic dataset for cases where the passenger’s fare is greater than 100, assigning it\n",
        "to fare gt 100.View the printed result.\n",
        "2. Filter the Titanic dataset for cases where the passenger’s class (Pclass) is 1, assigning it to\n",
        "first class.View the printed result.\n",
        "3. Filter the Titanic dataset for cases where the passenger’s age is less than 18 and the passenger\n",
        "is female (Sex is \"female\"), assigning it to female under 18. View the printed result."
      ]
    },
    {
      "cell_type": "markdown",
      "metadata": {
        "id": "AEslUZyDmw0x"
      },
      "source": [
        "1. Filter the Titanic dataset for cases where the passenger’s fare is greater than 100, assigning it\n",
        "to fare gt 100.View the printed result."
      ]
    },
    {
      "cell_type": "code",
      "execution_count": null,
      "metadata": {
        "colab": {
          "base_uri": "https://localhost:8080/"
        },
        "id": "aboGCRckmy-M",
        "outputId": "3a6f35d3-03db-4f11-8d6d-c7c2fb9c5628"
      },
      "outputs": [
        {
          "name": "stdout",
          "output_type": "stream",
          "text": [
            "     PassengerId  Survived  Pclass  \\\n",
            "27            28         0       1   \n",
            "31            32         1       1   \n",
            "88            89         1       1   \n",
            "118          119         0       1   \n",
            "195          196         1       1   \n",
            "\n",
            "                                               Name     Sex   Age  SibSp  \\\n",
            "27                   Fortune, Mr. Charles Alexander    male  19.0      3   \n",
            "31   Spencer, Mrs. William Augustus (Marie Eugenie)  female   NaN      1   \n",
            "88                       Fortune, Miss. Mabel Helen  female  23.0      3   \n",
            "118                        Baxter, Mr. Quigg Edmond    male  24.0      0   \n",
            "195                            Lurette, Miss. Elise  female  58.0      0   \n",
            "\n",
            "     Parch    Ticket      Fare        Cabin Embarked  \n",
            "27       2     19950  263.0000  C23 C25 C27        S  \n",
            "31       0  PC 17569  146.5208          B78        C  \n",
            "88       2     19950  263.0000  C23 C25 C27        S  \n",
            "118      1  PC 17558  247.5208      B58 B60        C  \n",
            "195      0  PC 17569  146.5208          B80        C  \n"
          ]
        }
      ],
      "source": [
        "fare_gt_100 = df_titanic[df_titanic['Fare'] > 100]\n",
        "print(fare_gt_100.head())"
      ]
    },
    {
      "cell_type": "markdown",
      "metadata": {
        "id": "HcJdwY7cnQ9E"
      },
      "source": [
        "2. Filter the Titanic dataset for cases where the passenger’s class (Pclass) is 1, assigning it to\n",
        "first class.View the printed result."
      ]
    },
    {
      "cell_type": "code",
      "execution_count": null,
      "metadata": {
        "colab": {
          "base_uri": "https://localhost:8080/"
        },
        "id": "8Y_QUFXvnVN6",
        "outputId": "88b72466-42d1-4bbb-88bc-8a494c72f5cb"
      },
      "outputs": [
        {
          "name": "stdout",
          "output_type": "stream",
          "text": [
            "    PassengerId  Survived  Pclass  \\\n",
            "1             2         1       1   \n",
            "3             4         1       1   \n",
            "6             7         0       1   \n",
            "11           12         1       1   \n",
            "23           24         1       1   \n",
            "\n",
            "                                                 Name     Sex   Age  SibSp  \\\n",
            "1   Cumings, Mrs. John Bradley (Florence Briggs Th...  female  38.0      1   \n",
            "3        Futrelle, Mrs. Jacques Heath (Lily May Peel)  female  35.0      1   \n",
            "6                             McCarthy, Mr. Timothy J    male  54.0      0   \n",
            "11                           Bonnell, Miss. Elizabeth  female  58.0      0   \n",
            "23                       Sloper, Mr. William Thompson    male  28.0      0   \n",
            "\n",
            "    Parch    Ticket     Fare Cabin Embarked  \n",
            "1       0  PC 17599  71.2833   C85        C  \n",
            "3       0    113803  53.1000  C123        S  \n",
            "6       0     17463  51.8625   E46        S  \n",
            "11      0    113783  26.5500  C103        S  \n",
            "23      0    113788  35.5000    A6        S  \n"
          ]
        }
      ],
      "source": [
        "first_class = df_titanic[df_titanic['Pclass'] == 1]\n",
        "print(first_class.head())"
      ]
    },
    {
      "cell_type": "markdown",
      "metadata": {
        "id": "_y5sRfBOnh0S"
      },
      "source": [
        "3. Filter the Titanic dataset for cases where the passenger’s age is less than 18 and the passenger\n",
        "is female (Sex is \"female\"), assigning it to female under 18. View the printed result."
      ]
    },
    {
      "cell_type": "code",
      "execution_count": null,
      "metadata": {
        "colab": {
          "base_uri": "https://localhost:8080/"
        },
        "id": "3jH3zjD0nl1P",
        "outputId": "b9f2e8fa-9131-4266-d9bd-f2a248403c88"
      },
      "outputs": [
        {
          "name": "stdout",
          "output_type": "stream",
          "text": [
            "    PassengerId  Survived  Pclass                                  Name  \\\n",
            "9            10         1       2   Nasser, Mrs. Nicholas (Adele Achem)   \n",
            "10           11         1       3       Sandstrom, Miss. Marguerite Rut   \n",
            "14           15         0       3  Vestrom, Miss. Hulda Amanda Adolfina   \n",
            "22           23         1       3           McGowan, Miss. Anna \"Annie\"   \n",
            "24           25         0       3         Palsson, Miss. Torborg Danira   \n",
            "\n",
            "       Sex   Age  SibSp  Parch   Ticket     Fare Cabin Embarked  \n",
            "9   female  14.0      1      0   237736  30.0708   NaN        C  \n",
            "10  female   4.0      1      1  PP 9549  16.7000    G6        S  \n",
            "14  female  14.0      0      0   350406   7.8542   NaN        S  \n",
            "22  female  15.0      0      0   330923   8.0292   NaN        Q  \n",
            "24  female   8.0      3      1   349909  21.0750   NaN        S  \n"
          ]
        }
      ],
      "source": [
        "female_under_18 = df_titanic[(df_titanic['Age']<18) &  (df_titanic['Sex'] == 'female')]\n",
        "print(female_under_18.head())"
      ]
    },
    {
      "cell_type": "markdown",
      "metadata": {
        "id": "f_TgpdwaoQhN"
      },
      "source": [
        "**Subsetting Rows by Categorical variables:**\n",
        "1. Filter the Titanic dataset for passengers whose Embarked port is either \"C\" (Cherbourg) or \"S\"\n",
        "(Southampton), assigning the result to embarked c or s. View the printed result.\n",
        "2. Filter the Titanic dataset for passengers whose Pclass is in the list [1, 2] (indicating first\n",
        "or second class), assigning the result to first second class.View the printed result."
      ]
    },
    {
      "cell_type": "markdown",
      "metadata": {
        "id": "4pBfU64zoUSj"
      },
      "source": [
        "1. Filter the Titanic dataset for passengers whose Embarked port is either \"C\" (Cherbourg) or \"S\"\n",
        "(Southampton), assigning the result to embarked c or s. View the printed result."
      ]
    },
    {
      "cell_type": "code",
      "execution_count": null,
      "metadata": {
        "colab": {
          "base_uri": "https://localhost:8080/"
        },
        "id": "Z5JcfNK4oZi3",
        "outputId": "bb0668cf-3439-44eb-ef07-9cf5960808fb"
      },
      "outputs": [
        {
          "name": "stdout",
          "output_type": "stream",
          "text": [
            "   PassengerId  Survived  Pclass  \\\n",
            "0            1         0       3   \n",
            "1            2         1       1   \n",
            "2            3         1       3   \n",
            "3            4         1       1   \n",
            "4            5         0       3   \n",
            "\n",
            "                                                Name     Sex   Age  SibSp  \\\n",
            "0                            Braund, Mr. Owen Harris    male  22.0      1   \n",
            "1  Cumings, Mrs. John Bradley (Florence Briggs Th...  female  38.0      1   \n",
            "2                             Heikkinen, Miss. Laina  female  26.0      0   \n",
            "3       Futrelle, Mrs. Jacques Heath (Lily May Peel)  female  35.0      1   \n",
            "4                           Allen, Mr. William Henry    male  35.0      0   \n",
            "\n",
            "   Parch            Ticket     Fare Cabin Embarked  \n",
            "0      0         A/5 21171   7.2500   NaN        S  \n",
            "1      0          PC 17599  71.2833   C85        C  \n",
            "2      0  STON/O2. 3101282   7.9250   NaN        S  \n",
            "3      0            113803  53.1000  C123        S  \n",
            "4      0            373450   8.0500   NaN        S  \n"
          ]
        }
      ],
      "source": [
        "embarked_c_or_s = df_titanic[(df_titanic['Embarked'] == 'C') | (df_titanic['Embarked'] == 'S')]\n",
        "print(embarked_c_or_s.head())"
      ]
    },
    {
      "cell_type": "markdown",
      "metadata": {
        "id": "Bt5T5_ZTo8dd"
      },
      "source": [
        "2. Filter the Titanic dataset for passengers whose Pclass is in the list [1, 2] (indicating first\n",
        "or second class), assigning the result to first second class.View the printed result."
      ]
    },
    {
      "cell_type": "code",
      "execution_count": null,
      "metadata": {
        "colab": {
          "base_uri": "https://localhost:8080/"
        },
        "id": "ezpFiMMso-vp",
        "outputId": "9a62294d-1405-4d34-a4f6-3e90148f3efa"
      },
      "outputs": [
        {
          "name": "stdout",
          "output_type": "stream",
          "text": [
            "    PassengerId  Survived  Pclass  \\\n",
            "1             2         1       1   \n",
            "3             4         1       1   \n",
            "6             7         0       1   \n",
            "9            10         1       2   \n",
            "11           12         1       1   \n",
            "\n",
            "                                                 Name     Sex   Age  SibSp  \\\n",
            "1   Cumings, Mrs. John Bradley (Florence Briggs Th...  female  38.0      1   \n",
            "3        Futrelle, Mrs. Jacques Heath (Lily May Peel)  female  35.0      1   \n",
            "6                             McCarthy, Mr. Timothy J    male  54.0      0   \n",
            "9                 Nasser, Mrs. Nicholas (Adele Achem)  female  14.0      1   \n",
            "11                           Bonnell, Miss. Elizabeth  female  58.0      0   \n",
            "\n",
            "    Parch    Ticket     Fare Cabin Embarked  \n",
            "1       0  PC 17599  71.2833   C85        C  \n",
            "3       0    113803  53.1000  C123        S  \n",
            "6       0     17463  51.8625   E46        S  \n",
            "9       0    237736  30.0708   NaN        C  \n",
            "11      0    113783  26.5500  C103        S  \n"
          ]
        }
      ],
      "source": [
        "first_second_class = df_titanic[df_titanic['Pclass'].isin([1,2])]\n",
        "print(first_second_class.head())"
      ]
    },
    {
      "cell_type": "markdown",
      "metadata": {
        "id": "3e1HnNgPpcd3"
      },
      "source": [
        "# 3.2 Exploratory Data Analysis Practice Exercise - 1."
      ]
    },
    {
      "cell_type": "markdown",
      "metadata": {
        "id": "F7hE-Dj4pgtZ"
      },
      "source": [
        "Warning: Handle missing values in the Age column by filling them with the median age of\n",
        "\n",
        "the dataset before performing the division.)\n",
        "\n",
        "Answer the following questions from Dataset:"
      ]
    },
    {
      "cell_type": "markdown",
      "metadata": {
        "id": "y5dBzn-apsau"
      },
      "source": [
        "**Which passenger had the highest fare paid relative to their age?\n",
        "To answer the question perform following operations:**\n",
        "1. Add a column to the Titanic dataset, fare per year, containing the fare divided by the age of\n",
        "the passenger(i.e., Fare/Age).\n",
        "2. Subset rows where fare per year is higher than 5, assigning this to high fare age.\n",
        "3. Sort high fare age by descending fare per year, assigning this to high fare age srt.\n",
        "4. Select only the Name and fare per year columns of high fare age srt and save the result as result.\n",
        "5. Look at the result."
      ]
    },
    {
      "cell_type": "code",
      "execution_count": null,
      "metadata": {
        "id": "Yvmkk-I6qVIw"
      },
      "outputs": [],
      "source": [
        "# Handle missing values in the Age column\n",
        "df_titanic['Age'] = df_titanic['Age'].fillna(df_titanic['Age'].median())"
      ]
    },
    {
      "cell_type": "markdown",
      "metadata": {
        "id": "BlzV18vyp1Ia"
      },
      "source": [
        "1. Add a column to the Titanic dataset, fare per year, containing the fare divided by the age of\n",
        "the passenger(i.e., Fare/Age)."
      ]
    },
    {
      "cell_type": "code",
      "execution_count": null,
      "metadata": {
        "colab": {
          "base_uri": "https://localhost:8080/"
        },
        "id": "omCZXIeqp66t",
        "outputId": "775db5b0-fd32-4157-ad02-2a2796dc53b6"
      },
      "outputs": [
        {
          "name": "stdout",
          "output_type": "stream",
          "text": [
            "0      0.329545\n",
            "1      1.875876\n",
            "2      0.304808\n",
            "3      1.517143\n",
            "4      0.230000\n",
            "         ...   \n",
            "886    0.481481\n",
            "887    1.578947\n",
            "888    0.837500\n",
            "889    1.153846\n",
            "890    0.242188\n",
            "Length: 891, dtype: float64\n"
          ]
        }
      ],
      "source": [
        "fare_per_year = df_titanic['Fare'] / df_titanic['Age']\n",
        "df_titanic['Fare/Age'] = fare_per_year\n",
        "print(fare_per_year)"
      ]
    },
    {
      "cell_type": "markdown",
      "metadata": {
        "id": "pKB5DTO-ruuR"
      },
      "source": [
        "2. Subset rows where fare per year is higher than 5, assigning this to high fare age."
      ]
    },
    {
      "cell_type": "code",
      "execution_count": null,
      "metadata": {
        "colab": {
          "base_uri": "https://localhost:8080/"
        },
        "id": "NUiwPm5pryyL",
        "outputId": "d1c8dda3-0ef9-4f89-b8bc-d73603101efe"
      },
      "outputs": [
        {
          "name": "stdout",
          "output_type": "stream",
          "text": [
            "     PassengerId  Survived  Pclass  \\\n",
            "7              8         0       3   \n",
            "16            17         0       3   \n",
            "27            28         0       1   \n",
            "31            32         1       1   \n",
            "43            44         1       2   \n",
            "..           ...       ...     ...   \n",
            "813          814         0       3   \n",
            "824          825         0       3   \n",
            "827          828         1       2   \n",
            "831          832         1       2   \n",
            "850          851         0       3   \n",
            "\n",
            "                                               Name     Sex    Age  SibSp  \\\n",
            "7                    Palsson, Master. Gosta Leonard    male   2.00      3   \n",
            "16                             Rice, Master. Eugene    male   2.00      4   \n",
            "27                   Fortune, Mr. Charles Alexander    male  19.00      3   \n",
            "31   Spencer, Mrs. William Augustus (Marie Eugenie)  female  28.00      1   \n",
            "43         Laroche, Miss. Simonne Marie Anne Andree  female   3.00      1   \n",
            "..                                              ...     ...    ...    ...   \n",
            "813              Andersson, Miss. Ebba Iris Alfrida  female   6.00      4   \n",
            "824                    Panula, Master. Urho Abraham    male   2.00      4   \n",
            "827                           Mallet, Master. Andre    male   1.00      0   \n",
            "831                 Richards, Master. George Sibley    male   0.83      1   \n",
            "850         Andersson, Master. Sigvard Harald Elias    male   4.00      4   \n",
            "\n",
            "     Parch           Ticket      Fare        Cabin Embarked   Fare/Age  \n",
            "7        1           349909   21.0750          NaN        S  10.537500  \n",
            "16       1           382652   29.1250          NaN        Q  14.562500  \n",
            "27       2            19950  263.0000  C23 C25 C27        S  13.842105  \n",
            "31       0         PC 17569  146.5208          B78        C   5.232886  \n",
            "43       2    SC/Paris 2123   41.5792          NaN        C  13.859733  \n",
            "..     ...              ...       ...          ...      ...        ...  \n",
            "813      2           347082   31.2750          NaN        S   5.212500  \n",
            "824      1          3101295   39.6875          NaN        S  19.843750  \n",
            "827      2  S.C./PARIS 2079   37.0042          NaN        C  37.004200  \n",
            "831      1            29106   18.7500          NaN        S  22.590361  \n",
            "850      2           347082   31.2750          NaN        S   7.818750  \n",
            "\n",
            "[71 rows x 13 columns]\n"
          ]
        }
      ],
      "source": [
        "subset_rows = df_titanic[df_titanic['Fare/Age'] > 5]\n",
        "print(subset_rows)"
      ]
    },
    {
      "cell_type": "markdown",
      "metadata": {
        "id": "dNIq9DWtMrZn"
      },
      "source": [
        "3. Sort high fare age by descending fare per year, assigning this to high fare age srt."
      ]
    },
    {
      "cell_type": "code",
      "execution_count": null,
      "metadata": {
        "colab": {
          "base_uri": "https://localhost:8080/"
        },
        "id": "i-vRH6iXNZ-r",
        "outputId": "4ed67b82-f036-407b-a91a-4ca12ddaf2ad"
      },
      "outputs": [
        {
          "name": "stdout",
          "output_type": "stream",
          "text": [
            "     PassengerId  Survived  Pclass  \\\n",
            "305          306         1       1   \n",
            "297          298         0       1   \n",
            "386          387         0       3   \n",
            "164          165         0       3   \n",
            "183          184         1       2   \n",
            "..           ...       ...     ...   \n",
            "348          349         1       3   \n",
            "31            32         1       1   \n",
            "205          206         0       3   \n",
            "813          814         0       3   \n",
            "480          481         0       3   \n",
            "\n",
            "                                               Name     Sex    Age  SibSp  \\\n",
            "305                  Allison, Master. Hudson Trevor    male   0.92      1   \n",
            "297                    Allison, Miss. Helen Loraine  female   2.00      1   \n",
            "386                 Goodwin, Master. Sidney Leonard    male   1.00      5   \n",
            "164                    Panula, Master. Eino Viljami    male   1.00      4   \n",
            "183                       Becker, Master. Richard F    male   1.00      2   \n",
            "..                                              ...     ...    ...    ...   \n",
            "348          Coutts, Master. William Loch \"William\"    male   3.00      1   \n",
            "31   Spencer, Mrs. William Augustus (Marie Eugenie)  female  28.00      1   \n",
            "205                      Strom, Miss. Telma Matilda  female   2.00      0   \n",
            "813              Andersson, Miss. Ebba Iris Alfrida  female   6.00      4   \n",
            "480                  Goodwin, Master. Harold Victor    male   9.00      5   \n",
            "\n",
            "     Parch      Ticket      Fare    Cabin Embarked    Fare/Age  \n",
            "305      2      113781  151.5500  C22 C26        S  164.728261  \n",
            "297      2      113781  151.5500  C22 C26        S   75.775000  \n",
            "386      2     CA 2144   46.9000      NaN        S   46.900000  \n",
            "164      1     3101295   39.6875      NaN        S   39.687500  \n",
            "183      1      230136   39.0000       F4        S   39.000000  \n",
            "..     ...         ...       ...      ...      ...         ...  \n",
            "348      1  C.A. 37671   15.9000      NaN        S    5.300000  \n",
            "31       0    PC 17569  146.5208      B78        C    5.232886  \n",
            "205      1      347054   10.4625       G6        S    5.231250  \n",
            "813      2      347082   31.2750      NaN        S    5.212500  \n",
            "480      2     CA 2144   46.9000      NaN        S    5.211111  \n",
            "\n",
            "[71 rows x 13 columns]\n"
          ]
        }
      ],
      "source": [
        "high_fare_age_srt = subset_rows.sort_values(by='Fare/Age', ascending=False)\n",
        "print(high_fare_age_srt)"
      ]
    },
    {
      "cell_type": "markdown",
      "metadata": {
        "id": "0qJpE6HjNhO5"
      },
      "source": [
        "4. Select only the Name and fare per year columns of high fare age srt and save the result as result."
      ]
    },
    {
      "cell_type": "code",
      "execution_count": null,
      "metadata": {
        "id": "HelWXOPSNltx"
      },
      "outputs": [],
      "source": [
        "result = high_fare_age_srt[['Name', 'Fare/Age']]\n"
      ]
    },
    {
      "cell_type": "markdown",
      "metadata": {
        "id": "xPSRrefqNlXn"
      },
      "source": [
        "5. Look at the result."
      ]
    },
    {
      "cell_type": "code",
      "execution_count": null,
      "metadata": {
        "colab": {
          "base_uri": "https://localhost:8080/"
        },
        "id": "zBJ37lIdNuUU",
        "outputId": "f708eb0d-1e3b-4642-b7d6-ab34ba524b5c"
      },
      "outputs": [
        {
          "name": "stdout",
          "output_type": "stream",
          "text": [
            "                                               Name    Fare/Age\n",
            "305                  Allison, Master. Hudson Trevor  164.728261\n",
            "297                    Allison, Miss. Helen Loraine   75.775000\n",
            "386                 Goodwin, Master. Sidney Leonard   46.900000\n",
            "164                    Panula, Master. Eino Viljami   39.687500\n",
            "183                       Becker, Master. Richard F   39.000000\n",
            "..                                              ...         ...\n",
            "348          Coutts, Master. William Loch \"William\"    5.300000\n",
            "31   Spencer, Mrs. William Augustus (Marie Eugenie)    5.232886\n",
            "205                      Strom, Miss. Telma Matilda    5.231250\n",
            "813              Andersson, Miss. Ebba Iris Alfrida    5.212500\n",
            "480                  Goodwin, Master. Harold Victor    5.211111\n",
            "\n",
            "[71 rows x 2 columns]\n"
          ]
        }
      ],
      "source": [
        "print(result)"
      ]
    },
    {
      "cell_type": "markdown",
      "metadata": {
        "id": "modUhX3AN5pQ"
      },
      "source": [
        "**Which adult male passenger (age ≥ 18 and Sex is ’male’) paid the highest fare relative to their\n",
        "class?**\n",
        "\n",
        "To answer the question perform following operations:\n",
        "1. Add a column to the Titanic dataset, fare per class, containing the fare divided by the passenger\n",
        "class i.e. Fare / Pclass.\n",
        "2. Subset rows where the passenger is male (Sex is ”male”) and an adult (Age is greater than or equal\n",
        "to 18), assigning this to adult males.\n",
        "3. Sort adult males by descending fare per class, assigning this to adult males srt.\n",
        "4. Select only the Name, Age, and fare per class columns of adult males sr and save the result\n",
        "as result.\n",
        "5. Look at the result."
      ]
    },
    {
      "cell_type": "markdown",
      "metadata": {
        "id": "bIuI4fomNtOp"
      },
      "source": [
        "1. Add a column to the Titanic dataset, fare per class, containing the fare divided by the passenger\n",
        "class i.e. Fare / Pclass."
      ]
    },
    {
      "cell_type": "code",
      "execution_count": null,
      "metadata": {
        "id": "5YdC-TtEOEIa"
      },
      "outputs": [],
      "source": [
        "fare_per_class = df_titanic['Fare'] / df_titanic['Pclass']\n",
        "df_titanic['Fare/Class'] = fare_per_class"
      ]
    },
    {
      "cell_type": "markdown",
      "metadata": {
        "id": "gPtijFAkOPTo"
      },
      "source": [
        "2. Subset rows where the passenger is male (Sex is ”male”) and an adult (Age is greater than or equal\n",
        "to 18), assigning this to adult males."
      ]
    },
    {
      "cell_type": "code",
      "execution_count": null,
      "metadata": {
        "colab": {
          "base_uri": "https://localhost:8080/"
        },
        "id": "Q31cFMZuORKp",
        "outputId": "32562b3b-a0c8-4658-eaa0-00b60d6f0745"
      },
      "outputs": [
        {
          "name": "stdout",
          "output_type": "stream",
          "text": [
            "     PassengerId  Survived  Pclass                            Name   Sex  \\\n",
            "0              1         0       3         Braund, Mr. Owen Harris  male   \n",
            "4              5         0       3        Allen, Mr. William Henry  male   \n",
            "5              6         0       3                Moran, Mr. James  male   \n",
            "6              7         0       1         McCarthy, Mr. Timothy J  male   \n",
            "12            13         0       3  Saundercock, Mr. William Henry  male   \n",
            "..           ...       ...     ...                             ...   ...   \n",
            "883          884         0       2   Banfield, Mr. Frederick James  male   \n",
            "884          885         0       3          Sutehall, Mr. Henry Jr  male   \n",
            "886          887         0       2           Montvila, Rev. Juozas  male   \n",
            "889          890         1       1           Behr, Mr. Karl Howell  male   \n",
            "890          891         0       3             Dooley, Mr. Patrick  male   \n",
            "\n",
            "      Age  SibSp  Parch            Ticket     Fare Cabin Embarked  Fare/Age  \\\n",
            "0    22.0      1      0         A/5 21171   7.2500   NaN        S  0.329545   \n",
            "4    35.0      0      0            373450   8.0500   NaN        S  0.230000   \n",
            "5    28.0      0      0            330877   8.4583   NaN        Q  0.302082   \n",
            "6    54.0      0      0             17463  51.8625   E46        S  0.960417   \n",
            "12   20.0      0      0         A/5. 2151   8.0500   NaN        S  0.402500   \n",
            "..    ...    ...    ...               ...      ...   ...      ...       ...   \n",
            "883  28.0      0      0  C.A./SOTON 34068  10.5000   NaN        S  0.375000   \n",
            "884  25.0      0      0   SOTON/OQ 392076   7.0500   NaN        S  0.282000   \n",
            "886  27.0      0      0            211536  13.0000   NaN        S  0.481481   \n",
            "889  26.0      0      0            111369  30.0000  C148        C  1.153846   \n",
            "890  32.0      0      0            370376   7.7500   NaN        Q  0.242188   \n",
            "\n",
            "     Fare/Class  \n",
            "0      2.416667  \n",
            "4      2.683333  \n",
            "5      2.819433  \n",
            "6     51.862500  \n",
            "12     2.683333  \n",
            "..          ...  \n",
            "883    5.250000  \n",
            "884    2.350000  \n",
            "886    6.500000  \n",
            "889   30.000000  \n",
            "890    2.583333  \n",
            "\n",
            "[519 rows x 14 columns]\n"
          ]
        }
      ],
      "source": [
        "adult_males = df_titanic[(df_titanic['Sex'] == 'male') & (df_titanic['Age'] >= 18)]\n",
        "print(adult_males)"
      ]
    },
    {
      "cell_type": "markdown",
      "metadata": {
        "id": "DXBEoHQaOYIR"
      },
      "source": [
        "3. Sort adult males by descending fare per class, assigning this to adult males srt."
      ]
    },
    {
      "cell_type": "code",
      "execution_count": null,
      "metadata": {
        "colab": {
          "base_uri": "https://localhost:8080/"
        },
        "id": "NMn8sK9rOaSZ",
        "outputId": "065fb010-7af1-4e38-b470-89917d5b264f"
      },
      "outputs": [
        {
          "name": "stdout",
          "output_type": "stream",
          "text": [
            "     PassengerId  Survived  Pclass                                Name   Sex  \\\n",
            "737          738         1       1              Lesurer, Mr. Gustave J  male   \n",
            "679          680         1       1  Cardeza, Mr. Thomas Drake Martinez  male   \n",
            "438          439         0       1                   Fortune, Mr. Mark  male   \n",
            "27            28         0       1      Fortune, Mr. Charles Alexander  male   \n",
            "118          119         0       1            Baxter, Mr. Quigg Edmond  male   \n",
            "..           ...       ...     ...                                 ...   ...   \n",
            "806          807         0       1              Andrews, Mr. Thomas Jr  male   \n",
            "481          482         0       2    Frost, Mr. Anthony Wood \"Archie\"  male   \n",
            "413          414         0       2      Cunningham, Mr. Alfred Fleming  male   \n",
            "466          467         0       2               Campbell, Mr. William  male   \n",
            "271          272         1       3        Tornquist, Mr. William Henry  male   \n",
            "\n",
            "      Age  SibSp  Parch    Ticket      Fare        Cabin Embarked   Fare/Age  \\\n",
            "737  35.0      0      0  PC 17755  512.3292         B101        C  14.637977   \n",
            "679  36.0      0      1  PC 17755  512.3292  B51 B53 B55        C  14.231367   \n",
            "438  64.0      1      4     19950  263.0000  C23 C25 C27        S   4.109375   \n",
            "27   19.0      3      2     19950  263.0000  C23 C25 C27        S  13.842105   \n",
            "118  24.0      0      1  PC 17558  247.5208      B58 B60        C  10.313367   \n",
            "..    ...    ...    ...       ...       ...          ...      ...        ...   \n",
            "806  39.0      0      0    112050    0.0000          A36        S   0.000000   \n",
            "481  28.0      0      0    239854    0.0000          NaN        S   0.000000   \n",
            "413  28.0      0      0    239853    0.0000          NaN        S   0.000000   \n",
            "466  28.0      0      0    239853    0.0000          NaN        S   0.000000   \n",
            "271  25.0      0      0      LINE    0.0000          NaN        S   0.000000   \n",
            "\n",
            "     Fare/Class  \n",
            "737    512.3292  \n",
            "679    512.3292  \n",
            "438    263.0000  \n",
            "27     263.0000  \n",
            "118    247.5208  \n",
            "..          ...  \n",
            "806      0.0000  \n",
            "481      0.0000  \n",
            "413      0.0000  \n",
            "466      0.0000  \n",
            "271      0.0000  \n",
            "\n",
            "[519 rows x 14 columns]\n"
          ]
        }
      ],
      "source": [
        "adult_males_srt = adult_males.sort_values(by='Fare/Class', ascending=False)\n",
        "print(adult_males_srt)"
      ]
    },
    {
      "cell_type": "markdown",
      "metadata": {
        "id": "i96F8zZmOjAo"
      },
      "source": [
        "4. Select only the Name, Age, and fare per class columns of adult males sr and save the result\n",
        "as result."
      ]
    },
    {
      "cell_type": "code",
      "execution_count": null,
      "metadata": {
        "id": "FASSCILSOk1H"
      },
      "outputs": [],
      "source": [
        "result = adult_males_srt[['Name', 'Age', 'Fare/Class']]"
      ]
    },
    {
      "cell_type": "markdown",
      "metadata": {
        "id": "uRhDMF40Ouj8"
      },
      "source": [
        "5. Look at the result."
      ]
    },
    {
      "cell_type": "code",
      "execution_count": null,
      "metadata": {
        "colab": {
          "base_uri": "https://localhost:8080/"
        },
        "id": "pYz1l2GUOwRH",
        "outputId": "796f68a1-8e23-4abc-f8d0-484591cb200a"
      },
      "outputs": [
        {
          "name": "stdout",
          "output_type": "stream",
          "text": [
            "                                   Name   Age  Fare/Class\n",
            "737              Lesurer, Mr. Gustave J  35.0    512.3292\n",
            "679  Cardeza, Mr. Thomas Drake Martinez  36.0    512.3292\n",
            "438                   Fortune, Mr. Mark  64.0    263.0000\n",
            "27       Fortune, Mr. Charles Alexander  19.0    263.0000\n",
            "118            Baxter, Mr. Quigg Edmond  24.0    247.5208\n",
            "..                                  ...   ...         ...\n",
            "806              Andrews, Mr. Thomas Jr  39.0      0.0000\n",
            "481    Frost, Mr. Anthony Wood \"Archie\"  28.0      0.0000\n",
            "413      Cunningham, Mr. Alfred Fleming  28.0      0.0000\n",
            "466               Campbell, Mr. William  28.0      0.0000\n",
            "271        Tornquist, Mr. William Henry  25.0      0.0000\n",
            "\n",
            "[519 rows x 3 columns]\n"
          ]
        }
      ],
      "source": [
        "print(result)"
      ]
    },
    {
      "cell_type": "markdown",
      "metadata": {
        "id": "Fsck-YzjO_vB"
      },
      "source": [
        "# 3.3 Exploratory Data Analysis with Group-by Method Practice Exercise:\n",
        "Based on the dataset Answer the following question:"
      ]
    },
    {
      "cell_type": "markdown",
      "metadata": {
        "id": "os-ON1FEPJcO"
      },
      "source": [
        "**What percent of the total fare revenue came from each passenger class?**\n",
        "\n",
        "To answer the question perform following operation:\n",
        "1. Calculate the total Fare paid across all passengers in the Titanic dataset.\n",
        "2. Subset for passengers in first class (Pclass is 1) and calculate their total fare.\n",
        "3. Do the same for second class (Pclass is 2) and third class (Pclass is 3).\n",
        "4. Combine the fare totals from first, second, and third classes into a list.\n",
        "5. Divide the totals for each class by the overall total fare to get the proportion of fare revenue by class."
      ]
    },
    {
      "cell_type": "markdown",
      "metadata": {
        "id": "l716XdjVPPiC"
      },
      "source": [
        "1. Calculate the total Fare paid across all passengers in the Titanic dataset."
      ]
    },
    {
      "cell_type": "code",
      "execution_count": null,
      "metadata": {
        "colab": {
          "base_uri": "https://localhost:8080/"
        },
        "id": "fVsS1gUYPSe4",
        "outputId": "432b6123-023b-442f-ec0c-a0e793e2d134"
      },
      "outputs": [
        {
          "name": "stdout",
          "output_type": "stream",
          "text": [
            "Total Fare:  28693.9493\n"
          ]
        }
      ],
      "source": [
        "total_fare = df_titanic['Fare'].sum()\n",
        "print(\"Total Fare: \", total_fare)"
      ]
    },
    {
      "cell_type": "markdown",
      "metadata": {
        "id": "I70hO4WoPw5Z"
      },
      "source": [
        "2. Subset for passengers in first class (Pclass is 1) and calculate their total fare."
      ]
    },
    {
      "cell_type": "code",
      "execution_count": null,
      "metadata": {
        "colab": {
          "base_uri": "https://localhost:8080/"
        },
        "id": "EFTVlHe0PwPi",
        "outputId": "55a6fea2-00e4-4042-b52a-a717f46685dc"
      },
      "outputs": [
        {
          "name": "stdout",
          "output_type": "stream",
          "text": [
            "First Class Fare:  18177.4125\n"
          ]
        }
      ],
      "source": [
        "first_class_fare = df_titanic[df_titanic['Pclass'] == 1]['Fare'].sum()\n",
        "print(\"First Class Fare: \", first_class_fare)"
      ]
    },
    {
      "cell_type": "markdown",
      "metadata": {
        "id": "yCWbAEC_P5ke"
      },
      "source": [
        "3. Do the same for second class (Pclass is 2) and third class (Pclass is 3)."
      ]
    },
    {
      "cell_type": "code",
      "execution_count": null,
      "metadata": {
        "colab": {
          "base_uri": "https://localhost:8080/"
        },
        "id": "X5TkCaT9P3LH",
        "outputId": "9e664dd4-ada7-43e3-f7de-c4c78487f576"
      },
      "outputs": [
        {
          "name": "stdout",
          "output_type": "stream",
          "text": [
            "Second Class Fare:  3801.8417\n",
            "Third Class Fare:  6714.6951\n"
          ]
        }
      ],
      "source": [
        "second_class_fare = df_titanic[df_titanic['Pclass'] == 2]['Fare'].sum()\n",
        "third_class_fare = df_titanic[df_titanic['Pclass'] == 3]['Fare'].sum()\n",
        "\n",
        "print(\"Second Class Fare: \", second_class_fare)\n",
        "print(\"Third Class Fare: \", third_class_fare)"
      ]
    },
    {
      "cell_type": "markdown",
      "metadata": {
        "id": "DSRIXR89QCSz"
      },
      "source": [
        "4. Combine the fare totals from first, second, and third classes into a list."
      ]
    },
    {
      "cell_type": "code",
      "execution_count": null,
      "metadata": {
        "colab": {
          "base_uri": "https://localhost:8080/"
        },
        "id": "RsRZYgQJQFGD",
        "outputId": "7d148bd3-67df-4a43-d320-ff068336fa81"
      },
      "outputs": [
        {
          "name": "stdout",
          "output_type": "stream",
          "text": [
            "[18177.4125, 3801.8417, 6714.6951]\n"
          ]
        }
      ],
      "source": [
        "total_fare_by_class = [first_class_fare, second_class_fare, third_class_fare]\n",
        "print(total_fare_by_class)"
      ]
    },
    {
      "cell_type": "markdown",
      "metadata": {
        "id": "hTLvyeX_QJ4x"
      },
      "source": [
        "5. Divide the totals for each class by the overall total fare to get the proportion of fare revenue by class."
      ]
    },
    {
      "cell_type": "code",
      "execution_count": null,
      "metadata": {
        "colab": {
          "base_uri": "https://localhost:8080/"
        },
        "id": "QTAJMtcrQMMR",
        "outputId": "32bbf4d8-93c7-4e61-b080-e91e82205442"
      },
      "outputs": [
        {
          "name": "stdout",
          "output_type": "stream",
          "text": [
            "[0.6334928771899656, 0.1324962855496507, 0.23401083726038366]\n"
          ]
        }
      ],
      "source": [
        "proportion_fare_by_class = [fare / total_fare for fare in total_fare_by_class]\n",
        "print(proportion_fare_by_class)"
      ]
    },
    {
      "cell_type": "markdown",
      "metadata": {
        "id": "19TrQ9-tQYv1"
      },
      "source": [
        "**What percent of the total number of passengers on the Titanic belonged to each age group**\n",
        "**(e.g., child, adult, senior)?**\n",
        "\n",
        "To answer the question perform following operation:\n",
        "1. Create a new column, age group, that categorizes passengers into \"child\" (age < 18), \"adult\" (age\n",
        "18{64), and \"senior\" (age 65 and above).\n",
        "2. Calculate the total number of passengers on the Titanic.\n",
        "3. Count the number of passengers in each age group.\n",
        "4. Divide the count of each age group by the total number of passengers to get the proportion of passengers\n",
        "in each age group.\n",
        "5. Display the proportion as a percentage."
      ]
    },
    {
      "cell_type": "markdown",
      "metadata": {
        "id": "uI2TvikiQiL_"
      },
      "source": [
        "1. Create a new column, age group, that categorizes passengers into \"child\" (age < 18), \"adult\" (age\n",
        "18{64), and \"senior\" (age 65 and above)."
      ]
    },
    {
      "cell_type": "code",
      "execution_count": null,
      "metadata": {
        "id": "ZI4lcQfwQlQ4"
      },
      "outputs": [],
      "source": [
        "age_groups = []\n",
        "for age in df_titanic['Age']:\n",
        "    if age < 18:\n",
        "        age_groups.append('child')\n",
        "    elif age >= 18 and age <= 64:\n",
        "        age_groups.append('adult')\n",
        "    else:\n",
        "        age_groups.append('senior')\n",
        "\n",
        "df_titanic['Age Group'] = age_groups\n"
      ]
    },
    {
      "cell_type": "markdown",
      "metadata": {
        "id": "GoxOyegVRXNw"
      },
      "source": [
        "2. Calculate the total number of passengers on the Titanic."
      ]
    },
    {
      "cell_type": "code",
      "execution_count": null,
      "metadata": {
        "colab": {
          "base_uri": "https://localhost:8080/"
        },
        "id": "f6tXSrmwRYDN",
        "outputId": "07e33f7c-e230-4b04-e1a7-00d2e8377640"
      },
      "outputs": [
        {
          "name": "stdout",
          "output_type": "stream",
          "text": [
            "Total number of passengers:  891\n"
          ]
        }
      ],
      "source": [
        "Total_number_of_passengers = len(df_titanic)\n",
        "print(\"Total number of passengers: \", Total_number_of_passengers)"
      ]
    },
    {
      "cell_type": "markdown",
      "metadata": {
        "id": "X_0FH2wNRdoy"
      },
      "source": [
        "3. Count the number of passengers in each age group."
      ]
    },
    {
      "cell_type": "code",
      "execution_count": null,
      "metadata": {
        "colab": {
          "base_uri": "https://localhost:8080/"
        },
        "id": "TE6-994DRffN",
        "outputId": "e1b973fd-e5bb-4b6e-a8fa-f49a922fccef"
      },
      "outputs": [
        {
          "name": "stdout",
          "output_type": "stream",
          "text": [
            "Age Group\n",
            "adult     767\n",
            "child     113\n",
            "senior     11\n",
            "Name: count, dtype: int64\n"
          ]
        }
      ],
      "source": [
        "age_group_count = df_titanic['Age Group'].value_counts()\n",
        "print(age_group_count)"
      ]
    },
    {
      "cell_type": "markdown",
      "metadata": {
        "id": "7W2w1FNJRtIt"
      },
      "source": [
        "4. Divide the count of each age group by the total number of passengers to get the proportion of passengers\n",
        "in each age group."
      ]
    },
    {
      "cell_type": "code",
      "execution_count": null,
      "metadata": {
        "colab": {
          "base_uri": "https://localhost:8080/"
        },
        "id": "CExCoDxFRv6C",
        "outputId": "b8eba6c5-a446-499a-f83b-1ec0d4e57f18"
      },
      "outputs": [
        {
          "name": "stdout",
          "output_type": "stream",
          "text": [
            "Age Group\n",
            "adult     0.860831\n",
            "child     0.126824\n",
            "senior    0.012346\n",
            "Name: count, dtype: float64\n"
          ]
        }
      ],
      "source": [
        "age_group_proportion = age_group_count / Total_number_of_passengers\n",
        "print(age_group_proportion)"
      ]
    },
    {
      "cell_type": "markdown",
      "metadata": {
        "id": "btRQ-OawR2bh"
      },
      "source": [
        "5. Display the proportion as a percentage."
      ]
    },
    {
      "cell_type": "code",
      "execution_count": null,
      "metadata": {
        "colab": {
          "base_uri": "https://localhost:8080/"
        },
        "id": "S78SjORoR34Y",
        "outputId": "300102e0-05ad-410b-8494-154cf95233fb"
      },
      "outputs": [
        {
          "name": "stdout",
          "output_type": "stream",
          "text": [
            "Age Group\n",
            "adult     86.083053\n",
            "child     12.682379\n",
            "senior     1.234568\n",
            "Name: count, dtype: float64\n"
          ]
        }
      ],
      "source": [
        "age_group_percentage = age_group_proportion * 100\n",
        "print(age_group_percentage)"
      ]
    }
  ],
  "metadata": {
    "colab": {
      "provenance": []
    },
    "kernelspec": {
      "display_name": "Python 3",
      "name": "python3"
    },
    "language_info": {
      "name": "python"
    }
  },
  "nbformat": 4,
  "nbformat_minor": 0
}