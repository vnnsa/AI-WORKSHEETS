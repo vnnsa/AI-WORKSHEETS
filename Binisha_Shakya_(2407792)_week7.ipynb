{
  "nbformat": 4,
  "nbformat_minor": 0,
  "metadata": {
    "colab": {
      "provenance": []
    },
    "kernelspec": {
      "name": "python3",
      "display_name": "Python 3"
    },
    "language_info": {
      "name": "python"
    }
  },
  "cells": [
    {
      "cell_type": "code",
      "execution_count": null,
      "metadata": {
        "colab": {
          "base_uri": "https://localhost:8080/"
        },
        "id": "eIzQ1Sj28Pg-",
        "outputId": "de977d09-88df-441a-e3dd-5c78eb8f3dc5"
      },
      "outputs": [
        {
          "output_type": "stream",
          "name": "stdout",
          "text": [
            "First 5 rows of the dataset:\n",
            "   Pregnancies  Glucose  BloodPressure  SkinThickness  Insulin   BMI  \\\n",
            "0            6      148             72             35        0  33.6   \n",
            "1            1       85             66             29        0  26.6   \n",
            "2            8      183             64              0        0  23.3   \n",
            "3            1       89             66             23       94  28.1   \n",
            "4            0      137             40             35      168  43.1   \n",
            "\n",
            "   DiabetesPedigreeFunction  Age  Outcome  \n",
            "0                     0.627   50        1  \n",
            "1                     0.351   31        0  \n",
            "2                     0.672   32        1  \n",
            "3                     0.167   21        0  \n",
            "4                     2.288   33        1  \n",
            "\n",
            "Data types of each column:\n",
            "Pregnancies                   int64\n",
            "Glucose                       int64\n",
            "BloodPressure                 int64\n",
            "SkinThickness                 int64\n",
            "Insulin                       int64\n",
            "BMI                         float64\n",
            "DiabetesPedigreeFunction    float64\n",
            "Age                           int64\n",
            "Outcome                       int64\n",
            "dtype: object\n",
            "\n",
            "Missing values in the dataset:\n",
            "Pregnancies                 0\n",
            "Glucose                     0\n",
            "BloodPressure               0\n",
            "SkinThickness               0\n",
            "Insulin                     0\n",
            "BMI                         0\n",
            "DiabetesPedigreeFunction    0\n",
            "Age                         0\n",
            "Outcome                     0\n",
            "dtype: int64\n",
            "\n",
            "Summary statistics:\n",
            "       Pregnancies     Glucose  BloodPressure  SkinThickness     Insulin  \\\n",
            "count   768.000000  768.000000     768.000000     768.000000  768.000000   \n",
            "mean      3.845052  120.894531      69.105469      20.536458   79.799479   \n",
            "std       3.369578   31.972618      19.355807      15.952218  115.244002   \n",
            "min       0.000000    0.000000       0.000000       0.000000    0.000000   \n",
            "25%       1.000000   99.000000      62.000000       0.000000    0.000000   \n",
            "50%       3.000000  117.000000      72.000000      23.000000   30.500000   \n",
            "75%       6.000000  140.250000      80.000000      32.000000  127.250000   \n",
            "max      17.000000  199.000000     122.000000      99.000000  846.000000   \n",
            "\n",
            "              BMI  DiabetesPedigreeFunction         Age     Outcome  \n",
            "count  768.000000                768.000000  768.000000  768.000000  \n",
            "mean    31.992578                  0.471876   33.240885    0.348958  \n",
            "std      7.884160                  0.331329   11.760232    0.476951  \n",
            "min      0.000000                  0.078000   21.000000    0.000000  \n",
            "25%     27.300000                  0.243750   24.000000    0.000000  \n",
            "50%     32.000000                  0.372500   29.000000    0.000000  \n",
            "75%     36.600000                  0.626250   41.000000    1.000000  \n",
            "max     67.100000                  2.420000   81.000000    1.000000  \n"
          ]
        }
      ],
      "source": [
        "import pandas as pd\n",
        "import numpy as np\n",
        "import matplotlib.pyplot as plt\n",
        "\n",
        "df= pd.read_csv('/content/drive/MyDrive/Concept and Tech Of Ai/diabetes.csv')\n",
        "print(\"First 5 rows of the dataset:\")\n",
        "print(df.head())\n",
        "\n",
        "print(\"\\nData types of each column:\")\n",
        "print(df.dtypes)\n",
        "\n",
        "print(\"\\nMissing values in the dataset:\")\n",
        "print(df.isnull().sum())\n",
        "\n",
        "print(\"\\nSummary statistics:\")\n",
        "print(df.describe())\n",
        "\n"
      ]
    },
    {
      "cell_type": "code",
      "source": [
        "from sklearn.model_selection import train_test_split\n",
        "from sklearn.linear_model import LinearRegression, LogisticRegression\n",
        "from sklearn.neighbors import KNeighborsClassifier\n",
        "from sklearn.metrics import mean_squared_error, r2_score, accuracy_score, confusion_matrix, classification_report\n",
        "\n",
        "X_reg = df.drop(columns=['BloodPressure', 'Outcome'])  # All columns except BloodPressure and Outcome\n",
        "y_reg = df['BloodPressure']\n",
        "X_train_reg, X_test_reg, y_train_reg, y_test_reg = train_test_split(X_reg, y_reg, test_size=0.2, random_state=42)\n",
        "reg_model = LinearRegression()\n",
        "reg_model.fit(X_train_reg, y_train_reg)\n",
        "\n",
        "# Predict on test set\n",
        "y_pred_reg = reg_model.predict(X_test_reg)\n",
        "\n",
        "# Evaluate\n",
        "print(\"Regression Evaluation:\")\n",
        "print(f\"Mean Squared Error (MSE): {mean_squared_error(y_test_reg, y_pred_reg)}\")\n",
        "print(f\"R^2 Score: {r2_score(y_test_reg, y_pred_reg)}\")"
      ],
      "metadata": {
        "colab": {
          "base_uri": "https://localhost:8080/"
        },
        "id": "VLJ8J5ny87B1",
        "outputId": "1c039038-827d-4f20-9482-b8dd9cbaa2c0"
      },
      "execution_count": null,
      "outputs": [
        {
          "output_type": "stream",
          "name": "stdout",
          "text": [
            "Regression Evaluation:\n",
            "Mean Squared Error (MSE): 408.8020357692283\n",
            "R^2 Score: 0.182134664007779\n"
          ]
        }
      ]
    },
    {
      "cell_type": "code",
      "source": [
        "X_clf = df.drop(columns=['Outcome'])\n",
        "y_clf = df['Outcome']\n",
        "X_train_clf, X_test_clf, y_train_clf, y_test_clf = train_test_split(X_clf, y_clf, test_size=0.2, random_state=42)\n",
        "clf_model_logreg = LogisticRegression(max_iter=1000)\n",
        "clf_model_logreg.fit(X_train_clf, y_train_clf)\n",
        "\n",
        "y_pred_clf_logreg = clf_model_logreg.predict(X_test_clf)\n",
        "\n",
        "# Evaluate\n",
        "print(\"Logistic Regression Evaluation:\")\n",
        "print(f\"Accuracy: {accuracy_score(y_test_clf, y_pred_clf_logreg)}\")\n",
        "print(f\"Confusion Matrix:\\n{confusion_matrix(y_test_clf, y_pred_clf_logreg)}\")\n",
        "print(f\"Classification Report:\\n{classification_report(y_test_clf, y_pred_clf_logreg)}\")"
      ],
      "metadata": {
        "colab": {
          "base_uri": "https://localhost:8080/"
        },
        "id": "9urJ3oBtCiQ6",
        "outputId": "bde958df-e94b-4b4d-9230-4702c06cd465"
      },
      "execution_count": null,
      "outputs": [
        {
          "output_type": "stream",
          "name": "stdout",
          "text": [
            "Logistic Regression Evaluation:\n",
            "Accuracy: 0.7467532467532467\n",
            "Confusion Matrix:\n",
            "[[78 21]\n",
            " [18 37]]\n",
            "Classification Report:\n",
            "              precision    recall  f1-score   support\n",
            "\n",
            "           0       0.81      0.79      0.80        99\n",
            "           1       0.64      0.67      0.65        55\n",
            "\n",
            "    accuracy                           0.75       154\n",
            "   macro avg       0.73      0.73      0.73       154\n",
            "weighted avg       0.75      0.75      0.75       154\n",
            "\n"
          ]
        }
      ]
    },
    {
      "cell_type": "code",
      "source": [
        "clf_model_knn = KNeighborsClassifier(n_neighbors=5)\n",
        "clf_model_knn.fit(X_train_clf, y_train_clf)\n",
        "\n",
        "# Predict on test set\n",
        "y_pred_clf_knn = clf_model_knn.predict(X_test_clf)\n",
        "\n",
        "# Evaluate\n",
        "print(\"KNN Evaluation:\")\n",
        "print(f\"Accuracy: {accuracy_score(y_test_clf, y_pred_clf_knn)}\")\n",
        "print(f\"Confusion Matrix:\\n{confusion_matrix(y_test_clf, y_pred_clf_knn)}\")\n",
        "print(f\"Classification Report:\\n{classification_report(y_test_clf, y_pred_clf_knn)}\")"
      ],
      "metadata": {
        "colab": {
          "base_uri": "https://localhost:8080/"
        },
        "id": "lT_1XPYyDhqA",
        "outputId": "8d939944-6f4d-419c-b274-9b8e7101ca47"
      },
      "execution_count": null,
      "outputs": [
        {
          "output_type": "stream",
          "name": "stdout",
          "text": [
            "KNN Evaluation:\n",
            "Accuracy: 0.6623376623376623\n",
            "Confusion Matrix:\n",
            "[[70 29]\n",
            " [23 32]]\n",
            "Classification Report:\n",
            "              precision    recall  f1-score   support\n",
            "\n",
            "           0       0.75      0.71      0.73        99\n",
            "           1       0.52      0.58      0.55        55\n",
            "\n",
            "    accuracy                           0.66       154\n",
            "   macro avg       0.64      0.64      0.64       154\n",
            "weighted avg       0.67      0.66      0.67       154\n",
            "\n"
          ]
        }
      ]
    }
  ]
}