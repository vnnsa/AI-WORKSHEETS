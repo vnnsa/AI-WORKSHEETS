{
  "nbformat": 4,
  "nbformat_minor": 0,
  "metadata": {
    "colab": {
      "provenance": []
    },
    "kernelspec": {
      "name": "python3",
      "display_name": "Python 3"
    },
    "language_info": {
      "name": "python"
    }
  },
  "cells": [
    {
      "cell_type": "markdown",
      "source": [
        "Binisha Shakya"
      ],
      "metadata": {
        "id": "giFlexd6h1c6"
      }
    },
    {
      "cell_type": "markdown",
      "source": [
        "**Problem 1 - Data Read, Write and Inspect:**"
      ],
      "metadata": {
        "id": "GbtvbRcR-726"
      }
    },
    {
      "cell_type": "code",
      "source": [
        "import pandas as pd"
      ],
      "metadata": {
        "id": "MHAwBqFN_FLt"
      },
      "execution_count": null,
      "outputs": []
    },
    {
      "cell_type": "markdown",
      "source": [
        "1. Load the provided dataset and import in pandas DataFrame."
      ],
      "metadata": {
        "id": "PDS-ylPw_WBS"
      }
    },
    {
      "cell_type": "code",
      "source": [
        "df = pd.read_csv(\"/content/drive/MyDrive/Concepts and Technology of AI/bank .csv\")"
      ],
      "metadata": {
        "id": "XqjYpNf2_XZs"
      },
      "execution_count": null,
      "outputs": []
    },
    {
      "cell_type": "code",
      "source": [
        "#2: Check info of the DataFrame\n",
        "# (a) Identify columns with dtype=object\n",
        "object_columns = df.select_dtypes(include=['object']).columns\n",
        "print(\"Columns with dtype=object:\")\n",
        "print(object_columns)\n",
        "\n",
        "# (b) Find unique values of those columns\n",
        "print(\"\\nUnique values of dtype=object columns:\")\n",
        "for col in object_columns:\n",
        "    print(f\"{col}: {df[col].unique()}\")\n",
        "\n",
        "# (c) Check for the total number of null values in each column\n",
        "null_values = df.isnull().sum()\n",
        "print(\"\\nTotal number of null values in each column:\")\n",
        "print(null_values)\n",
        "\n",
        "\n"
      ],
      "metadata": {
        "colab": {
          "base_uri": "https://localhost:8080/"
        },
        "id": "RhCD_9cc_kU8",
        "outputId": "c081b000-8c2b-4d82-9ae4-41e4a669de80"
      },
      "execution_count": null,
      "outputs": [
        {
          "output_type": "stream",
          "name": "stdout",
          "text": [
            "Columns with dtype=object:\n",
            "Index(['job', 'marital', 'education', 'default', 'housing', 'loan', 'contact',\n",
            "       'month', 'poutcome', 'y'],\n",
            "      dtype='object')\n",
            "\n",
            "Unique values of dtype=object columns:\n",
            "job: ['management' 'technician' 'entrepreneur' 'blue-collar' 'unknown'\n",
            " 'retired' 'admin.' 'services' 'self-employed' 'unemployed' 'housemaid'\n",
            " 'student']\n",
            "marital: ['married' 'single' 'divorced']\n",
            "education: ['tertiary' 'secondary' 'unknown' 'primary']\n",
            "default: ['no' 'yes']\n",
            "housing: ['yes' 'no']\n",
            "loan: ['no' 'yes']\n",
            "contact: ['unknown' 'cellular' 'telephone']\n",
            "month: ['may' 'jun' 'jul' 'aug' 'oct' 'nov' 'dec' 'jan' 'feb' 'mar' 'apr' 'sep']\n",
            "poutcome: ['unknown' 'failure' 'other' 'success']\n",
            "y: ['no' 'yes']\n",
            "\n",
            "Total number of null values in each column:\n",
            "age          0\n",
            "job          0\n",
            "marital      0\n",
            "education    0\n",
            "default      0\n",
            "balance      0\n",
            "housing      0\n",
            "loan         0\n",
            "contact      0\n",
            "day          0\n",
            "month        0\n",
            "duration     0\n",
            "campaign     0\n",
            "pdays        0\n",
            "previous     0\n",
            "poutcome     0\n",
            "y            0\n",
            "dtype: int64\n"
          ]
        }
      ]
    },
    {
      "cell_type": "code",
      "source": [
        "#3: Drop all the columns with dtypes object and store in new DataFrame, also write the DataFrame in\n",
        "#”.csv” with name ”banknumericdata.csv”\n",
        "df_numeric = df.drop(columns=object_columns)\n",
        "df_numeric.to_csv(\"banknumericdata.csv\", index=False)"
      ],
      "metadata": {
        "id": "_d_tbdO_AEfw"
      },
      "execution_count": null,
      "outputs": []
    },
    {
      "cell_type": "code",
      "source": [
        "#4: Read the new ”banknumericdata.csv” and find summary statistics\n",
        "df_numeric_reloaded = pd.read_csv(\"banknumericdata.csv\")\n",
        "summary_statistics = df_numeric_reloaded.describe()\n",
        "print(\"\\nSummary Statistics:\")\n",
        "print(summary_statistics)"
      ],
      "metadata": {
        "colab": {
          "base_uri": "https://localhost:8080/"
        },
        "id": "LB12BsjPANHh",
        "outputId": "84c568b5-142f-4e48-8981-921cb66539d3"
      },
      "execution_count": null,
      "outputs": [
        {
          "output_type": "stream",
          "name": "stdout",
          "text": [
            "\n",
            "Summary Statistics:\n",
            "                age        balance           day      duration      campaign  \\\n",
            "count  45211.000000   45211.000000  45211.000000  45211.000000  45211.000000   \n",
            "mean      40.936210    1362.272058     15.806419    258.163080      2.763841   \n",
            "std       10.618762    3044.765829      8.322476    257.527812      3.098021   \n",
            "min       18.000000   -8019.000000      1.000000      0.000000      1.000000   \n",
            "25%       33.000000      72.000000      8.000000    103.000000      1.000000   \n",
            "50%       39.000000     448.000000     16.000000    180.000000      2.000000   \n",
            "75%       48.000000    1428.000000     21.000000    319.000000      3.000000   \n",
            "max       95.000000  102127.000000     31.000000   4918.000000     63.000000   \n",
            "\n",
            "              pdays      previous  \n",
            "count  45211.000000  45211.000000  \n",
            "mean      40.197828      0.580323  \n",
            "std      100.128746      2.303441  \n",
            "min       -1.000000      0.000000  \n",
            "25%       -1.000000      0.000000  \n",
            "50%       -1.000000      0.000000  \n",
            "75%       -1.000000      0.000000  \n",
            "max      871.000000    275.000000  \n"
          ]
        }
      ]
    },
    {
      "cell_type": "markdown",
      "source": [
        "#Problem 2 - Data Imputations:\n",
        "Complete all the following Task:\n",
        "• Dataset for the Task: \"medical_student.csv\"\n",
        "1. Load the provided dataset and import in pandas DataFrame.\n",
        "2. Check info of the DataFrame and identify column with missing (null) values.\n",
        "3. For the column with missing values fill the values using various techniques we discussed above. Try\n",
        "to explain why did you select the particular methods for particular column.\n",
        "4. Check for any duplicate values present in Dataset and do necessary to manage the duplicate items.\n",
        "{Hint: dataset.duplicated.sum()}"
      ],
      "metadata": {
        "id": "4yTvgyU3A6ry"
      }
    },
    {
      "cell_type": "code",
      "source": [
        "#1.importing the data from file\n",
        "import pandas as pd\n",
        "dataset=pd.read_csv(\"/content/drive/MyDrive/Concepts and Technology of AI/medical_students_dataset.csv\");\n",
        "#checking the info of the Dataframe\n",
        "dataset.info()"
      ],
      "metadata": {
        "colab": {
          "base_uri": "https://localhost:8080/"
        },
        "id": "V2c4fU7VFBl4",
        "outputId": "05caa74e-f9ab-453c-ccff-fc2dc03d1cb5"
      },
      "execution_count": null,
      "outputs": [
        {
          "output_type": "stream",
          "name": "stdout",
          "text": [
            "<class 'pandas.core.frame.DataFrame'>\n",
            "RangeIndex: 200000 entries, 0 to 199999\n",
            "Data columns (total 13 columns):\n",
            " #   Column          Non-Null Count   Dtype  \n",
            "---  ------          --------------   -----  \n",
            " 0   Student ID      180000 non-null  float64\n",
            " 1   Age             180000 non-null  float64\n",
            " 2   Gender          180000 non-null  object \n",
            " 3   Height          180000 non-null  float64\n",
            " 4   Weight          180000 non-null  float64\n",
            " 5   Blood Type      180000 non-null  object \n",
            " 6   BMI             180000 non-null  float64\n",
            " 7   Temperature     180000 non-null  float64\n",
            " 8   Heart Rate      180000 non-null  float64\n",
            " 9   Blood Pressure  180000 non-null  float64\n",
            " 10  Cholesterol     180000 non-null  float64\n",
            " 11  Diabetes        180000 non-null  object \n",
            " 12  Smoking         180000 non-null  object \n",
            "dtypes: float64(9), object(4)\n",
            "memory usage: 19.8+ MB\n"
          ]
        }
      ]
    },
    {
      "cell_type": "code",
      "source": [
        "#counting the number of null values in each column\n",
        "missing_values=dataset.isnull().sum()\n",
        "print(\"Columns with missing values=\\n\",missing_values)"
      ],
      "metadata": {
        "colab": {
          "base_uri": "https://localhost:8080/"
        },
        "id": "AIH9qKWASfN3",
        "outputId": "db5209ef-72ce-48a5-b9da-c0c15b16e44e"
      },
      "execution_count": null,
      "outputs": [
        {
          "output_type": "stream",
          "name": "stdout",
          "text": [
            "Columns with missing values=\n",
            " Student ID        20000\n",
            "Age               20000\n",
            "Gender            20000\n",
            "Height            20000\n",
            "Weight            20000\n",
            "Blood Type        20000\n",
            "BMI               20000\n",
            "Temperature       20000\n",
            "Heart Rate        20000\n",
            "Blood Pressure    20000\n",
            "Cholesterol       20000\n",
            "Diabetes          20000\n",
            "Smoking           20000\n",
            "dtype: int64\n"
          ]
        }
      ]
    },
    {
      "cell_type": "markdown",
      "source": [
        "dataset.fillna(0)->This method is easy to implement and could be applied to numerical columns."
      ],
      "metadata": {
        "id": "SiFgxgPlSrfY"
      }
    },
    {
      "cell_type": "code",
      "source": [
        "#missing null values with zero\n",
        "dataset_zeros=dataset.fillna(0)\n",
        "print(\"Filling null values with zero=\\n \",dataset_zeros)"
      ],
      "metadata": {
        "colab": {
          "base_uri": "https://localhost:8080/"
        },
        "id": "6ouVb4HrSswK",
        "outputId": "9a3eb363-ff79-4a27-d6e7-fd16de891d57"
      },
      "execution_count": null,
      "outputs": [
        {
          "output_type": "stream",
          "name": "stdout",
          "text": [
            "Filling null values with zero=\n",
            "          Student ID   Age  Gender      Height     Weight Blood Type        BMI  \\\n",
            "0              1.0  18.0  Female  161.777924  72.354947          O  27.645835   \n",
            "1              2.0   0.0    Male  152.069157  47.630941          B   0.000000   \n",
            "2              3.0  32.0  Female  182.537664  55.741083          A  16.729017   \n",
            "3              0.0  30.0    Male  182.112867  63.332207          B  19.096042   \n",
            "4              5.0  23.0  Female    0.000000  46.234173          O   0.000000   \n",
            "...            ...   ...     ...         ...        ...        ...        ...   \n",
            "199995         0.0  24.0    Male  176.503260  95.756997          B  30.737254   \n",
            "199996     99997.0  29.0  Female  163.917675  45.225194          0  16.831734   \n",
            "199997     99998.0  34.0  Female    0.000000  99.648914          0  33.189303   \n",
            "199998     99999.0  30.0  Female  156.446944  50.142824          A  20.486823   \n",
            "199999    100000.0  20.0  Female  153.927409  99.928405          O  42.175189   \n",
            "\n",
            "        Temperature  Heart Rate  Blood Pressure  Cholesterol Diabetes Smoking  \n",
            "0          0.000000        95.0           109.0        203.0       No       0  \n",
            "1         98.714977        93.0           104.0        163.0       No      No  \n",
            "2         98.260293        76.0           130.0        216.0      Yes      No  \n",
            "3         98.839605        99.0           112.0        141.0       No     Yes  \n",
            "4         98.480008        95.0             0.0        231.0       No      No  \n",
            "...             ...         ...             ...          ...      ...     ...  \n",
            "199995    99.170685        65.0           121.0        130.0       No      No  \n",
            "199996    97.865785        62.0           125.0        198.0       No     Yes  \n",
            "199997    98.768210        60.0            90.0        154.0        0      No  \n",
            "199998    98.994212        61.0           106.0        225.0       No      No  \n",
            "199999    98.595817        95.0           133.0        132.0        0      No  \n",
            "\n",
            "[200000 rows x 13 columns]\n"
          ]
        }
      ]
    },
    {
      "cell_type": "markdown",
      "source": [
        "dataset.ffill()-> It is used to filling the missing value of a column by coping the value of the previous non-missing observation so we can logically fill the missing values with the last values"
      ],
      "metadata": {
        "id": "kX8eplSMTKMv"
      }
    },
    {
      "cell_type": "code",
      "source": [
        "#filling missing/null values using forward fill\n",
        "dataset_forward_fill=dataset.ffill()\n",
        "print(\"Filling null values with forward fill= \\n\",dataset_forward_fill)"
      ],
      "metadata": {
        "colab": {
          "base_uri": "https://localhost:8080/"
        },
        "id": "ye6FXEuCTRGO",
        "outputId": "d49ff214-7ae9-4cf0-c1f3-b185592a04e5"
      },
      "execution_count": null,
      "outputs": [
        {
          "output_type": "stream",
          "name": "stdout",
          "text": [
            "Filling null values with forward fill= \n",
            "         Student ID   Age  Gender      Height     Weight Blood Type        BMI  \\\n",
            "0              1.0  18.0  Female  161.777924  72.354947          O  27.645835   \n",
            "1              2.0  18.0    Male  152.069157  47.630941          B  27.645835   \n",
            "2              3.0  32.0  Female  182.537664  55.741083          A  16.729017   \n",
            "3              3.0  30.0    Male  182.112867  63.332207          B  19.096042   \n",
            "4              5.0  23.0  Female  182.112867  46.234173          O  19.096042   \n",
            "...            ...   ...     ...         ...        ...        ...        ...   \n",
            "199995     99995.0  24.0    Male  176.503260  95.756997          B  30.737254   \n",
            "199996     99997.0  29.0  Female  163.917675  45.225194          B  16.831734   \n",
            "199997     99998.0  34.0  Female  163.917675  99.648914          B  33.189303   \n",
            "199998     99999.0  30.0  Female  156.446944  50.142824          A  20.486823   \n",
            "199999    100000.0  20.0  Female  153.927409  99.928405          O  42.175189   \n",
            "\n",
            "        Temperature  Heart Rate  Blood Pressure  Cholesterol Diabetes Smoking  \n",
            "0               NaN        95.0           109.0        203.0       No     NaN  \n",
            "1         98.714977        93.0           104.0        163.0       No      No  \n",
            "2         98.260293        76.0           130.0        216.0      Yes      No  \n",
            "3         98.839605        99.0           112.0        141.0       No     Yes  \n",
            "4         98.480008        95.0           112.0        231.0       No      No  \n",
            "...             ...         ...             ...          ...      ...     ...  \n",
            "199995    99.170685        65.0           121.0        130.0       No      No  \n",
            "199996    97.865785        62.0           125.0        198.0       No     Yes  \n",
            "199997    98.768210        60.0            90.0        154.0       No      No  \n",
            "199998    98.994212        61.0           106.0        225.0       No      No  \n",
            "199999    98.595817        95.0           133.0        132.0       No      No  \n",
            "\n",
            "[200000 rows x 13 columns]\n"
          ]
        }
      ]
    },
    {
      "cell_type": "markdown",
      "source": [
        "dataset['column_name'].fillna(dataset['column_name'].mean())->Using this method, we can replace missing values with the central tendency in the numerical columns."
      ],
      "metadata": {
        "id": "gDapGE7nTVPI"
      }
    },
    {
      "cell_type": "code",
      "source": [
        "#filling missing/null values of age with the mean of the column\n",
        "dataset_mean= dataset['Age'].fillna(dataset['Age'].mean())\n",
        "print(\"Filling null values with mean=\\n\",dataset_mean)"
      ],
      "metadata": {
        "colab": {
          "base_uri": "https://localhost:8080/"
        },
        "id": "FxOOQ_1iTZn2",
        "outputId": "00c093ee-7294-4167-ebc6-bd1eea113d92"
      },
      "execution_count": null,
      "outputs": [
        {
          "output_type": "stream",
          "name": "stdout",
          "text": [
            "Filling null values with mean=\n",
            " 0         18.000000\n",
            "1         26.021561\n",
            "2         32.000000\n",
            "3         30.000000\n",
            "4         23.000000\n",
            "            ...    \n",
            "199995    24.000000\n",
            "199996    29.000000\n",
            "199997    34.000000\n",
            "199998    30.000000\n",
            "199999    20.000000\n",
            "Name: Age, Length: 200000, dtype: float64\n"
          ]
        }
      ]
    },
    {
      "cell_type": "markdown",
      "source": [
        "dataset['column_name'].fillna(dataset['column_name'].median())->Using this method, we can replace missing values with the median value in the numerical columns. It is a good way to fill missing values when the dataset might contain outliers."
      ],
      "metadata": {
        "id": "iQEJRbGKTqqw"
      }
    },
    {
      "cell_type": "code",
      "source": [
        "#filling missing/null values of Age with median of the column\n",
        "dataset_median=dataset['Age'].fillna(dataset['Age'].median())\n",
        "print(\"Filling null values with median=\\n\",dataset_median)"
      ],
      "metadata": {
        "colab": {
          "base_uri": "https://localhost:8080/"
        },
        "id": "Ke4yqbPITufn",
        "outputId": "91528d6a-626a-4db7-8964-e759839503c4"
      },
      "execution_count": null,
      "outputs": [
        {
          "output_type": "stream",
          "name": "stdout",
          "text": [
            "Filling null values with median=\n",
            " 0         18.0\n",
            "1         26.0\n",
            "2         32.0\n",
            "3         30.0\n",
            "4         23.0\n",
            "          ... \n",
            "199995    24.0\n",
            "199996    29.0\n",
            "199997    34.0\n",
            "199998    30.0\n",
            "199999    20.0\n",
            "Name: Age, Length: 200000, dtype: float64\n"
          ]
        }
      ]
    },
    {
      "cell_type": "markdown",
      "source": [
        "dataset['column_name'].fillna(dataset['column_name'].mode())->Using this method, we can replace missing values with the most occured value in the numerical columns."
      ],
      "metadata": {
        "id": "IObxQmiBT2cQ"
      }
    },
    {
      "cell_type": "code",
      "source": [
        "#filling missing/null values of Age with mode of the column\n",
        "dataset_mode=dataset['Age'].fillna(dataset['Age'].mode())\n",
        "print(\"Filling null values with mode=\\n\",dataset_mode)"
      ],
      "metadata": {
        "colab": {
          "base_uri": "https://localhost:8080/"
        },
        "id": "SnLbdK6YT6eB",
        "outputId": "8645c9fc-a20a-4f00-a6d6-70fbdf1d2a52"
      },
      "execution_count": null,
      "outputs": [
        {
          "output_type": "stream",
          "name": "stdout",
          "text": [
            "Filling null values with mode=\n",
            " 0         18.0\n",
            "1          NaN\n",
            "2         32.0\n",
            "3         30.0\n",
            "4         23.0\n",
            "          ... \n",
            "199995    24.0\n",
            "199996    29.0\n",
            "199997    34.0\n",
            "199998    30.0\n",
            "199999    20.0\n",
            "Name: Age, Length: 200000, dtype: float64\n"
          ]
        }
      ]
    },
    {
      "cell_type": "code",
      "source": [
        "#4. Check for any duplicate values present in Dataset and do necessary to manage the duplicate items.\n",
        "#checking for duplicate rows\n",
        "duplicate_count=dataset.duplicated().sum()\n",
        "print(\"Number of duplicate rows= \\n\",duplicate_count)"
      ],
      "metadata": {
        "colab": {
          "base_uri": "https://localhost:8080/"
        },
        "id": "d_c78SUlUCQk",
        "outputId": "60939ba6-97c6-426f-f1a5-26a2befd779f"
      },
      "execution_count": null,
      "outputs": [
        {
          "output_type": "stream",
          "name": "stdout",
          "text": [
            "Number of duplicate rows= \n",
            " 7644\n"
          ]
        }
      ]
    },
    {
      "cell_type": "code",
      "source": [
        "#displaying the duplicated rows\n",
        "duplicates=dataset[dataset.duplicated()]\n",
        "print(\"Duplicate rows=\\n\",duplicates)"
      ],
      "metadata": {
        "colab": {
          "base_uri": "https://localhost:8080/"
        },
        "id": "VF095xI6UDrU",
        "outputId": "c37558d2-58ae-4da4-dca5-009c78ed3a61"
      },
      "execution_count": null,
      "outputs": [
        {
          "output_type": "stream",
          "name": "stdout",
          "text": [
            "Duplicate rows=\n",
            "         Student ID   Age  Gender      Height     Weight Blood Type        BMI  \\\n",
            "100007         8.0  28.0    Male  186.489402  52.389752         AB  15.063921   \n",
            "100011        12.0  34.0  Female  182.416302  76.371050         AB  22.950992   \n",
            "100018        19.0  31.0  Female  158.790160  46.829849         AB  18.572723   \n",
            "100022        23.0  29.0  Female  179.909041  90.679436         AB  28.015787   \n",
            "100023        24.0  18.0    Male         NaN  52.521560         AB  13.570402   \n",
            "...            ...   ...     ...         ...        ...        ...        ...   \n",
            "199961     99962.0  31.0    Male  180.859321  43.647709          B  13.343804   \n",
            "199962     99963.0  18.0  Female  180.133710  48.381499          A  14.910401   \n",
            "199965     99966.0  22.0  Female  166.562901  48.684146         AB  17.548137   \n",
            "199973     99974.0  25.0  Female  156.297842  90.690186          B  37.123963   \n",
            "199985     99986.0  23.0  Female  162.884951  82.485778          B  31.089745   \n",
            "\n",
            "        Temperature  Heart Rate  Blood Pressure  Cholesterol Diabetes Smoking  \n",
            "100007    98.227788        85.0           123.0        128.0       No      No  \n",
            "100011    98.118274        86.0            97.0        247.0       No      No  \n",
            "100018    98.784709        92.0           102.0        172.0      NaN      No  \n",
            "100022    98.782269        81.0           108.0        227.0       No     Yes  \n",
            "100023    98.215090        60.0           132.0        217.0       No      No  \n",
            "...             ...         ...             ...          ...      ...     ...  \n",
            "199961    98.675411        68.0            90.0        223.0       No      No  \n",
            "199962    98.104064        71.0           129.0        184.0       No      No  \n",
            "199965    98.776134        95.0           109.0        152.0      Yes      No  \n",
            "199973    98.664591        70.0           132.0        164.0      Yes      No  \n",
            "199985    98.852347        65.0            94.0        188.0       No     Yes  \n",
            "\n",
            "[7644 rows x 13 columns]\n"
          ]
        }
      ]
    },
    {
      "cell_type": "code",
      "source": [
        "#Removing duplicate rows\n",
        "dataset_without_duplicates=dataset.drop_duplicates()\n",
        "print(\"Dataset after removing duplicates= \\n\",dataset_without_duplicates)"
      ],
      "metadata": {
        "colab": {
          "base_uri": "https://localhost:8080/"
        },
        "id": "eu-yQeANUTp8",
        "outputId": "5c4d464e-3ca5-43b5-c70e-fd7757b79021"
      },
      "execution_count": null,
      "outputs": [
        {
          "output_type": "stream",
          "name": "stdout",
          "text": [
            "Dataset after removing duplicates= \n",
            "         Student ID   Age  Gender      Height     Weight Blood Type        BMI  \\\n",
            "0              1.0  18.0  Female  161.777924  72.354947          O  27.645835   \n",
            "1              2.0   NaN    Male  152.069157  47.630941          B        NaN   \n",
            "2              3.0  32.0  Female  182.537664  55.741083          A  16.729017   \n",
            "3              NaN  30.0    Male  182.112867  63.332207          B  19.096042   \n",
            "4              5.0  23.0  Female         NaN  46.234173          O        NaN   \n",
            "...            ...   ...     ...         ...        ...        ...        ...   \n",
            "199995         NaN  24.0    Male  176.503260  95.756997          B  30.737254   \n",
            "199996     99997.0  29.0  Female  163.917675  45.225194        NaN  16.831734   \n",
            "199997     99998.0  34.0  Female         NaN  99.648914        NaN  33.189303   \n",
            "199998     99999.0  30.0  Female  156.446944  50.142824          A  20.486823   \n",
            "199999    100000.0  20.0  Female  153.927409  99.928405          O  42.175189   \n",
            "\n",
            "        Temperature  Heart Rate  Blood Pressure  Cholesterol Diabetes Smoking  \n",
            "0               NaN        95.0           109.0        203.0       No     NaN  \n",
            "1         98.714977        93.0           104.0        163.0       No      No  \n",
            "2         98.260293        76.0           130.0        216.0      Yes      No  \n",
            "3         98.839605        99.0           112.0        141.0       No     Yes  \n",
            "4         98.480008        95.0             NaN        231.0       No      No  \n",
            "...             ...         ...             ...          ...      ...     ...  \n",
            "199995    99.170685        65.0           121.0        130.0       No      No  \n",
            "199996    97.865785        62.0           125.0        198.0       No     Yes  \n",
            "199997    98.768210        60.0            90.0        154.0      NaN      No  \n",
            "199998    98.994212        61.0           106.0        225.0       No      No  \n",
            "199999    98.595817        95.0           133.0        132.0      NaN      No  \n",
            "\n",
            "[192356 rows x 13 columns]\n"
          ]
        }
      ]
    },
    {
      "cell_type": "markdown",
      "source": [
        "3.2 Exercises - Data Cleaning and Transformations with ”Titanic Dataset”:\n",
        "Dataset Used: \"titanic.csv\""
      ],
      "metadata": {
        "id": "6UjEw-xuUWld"
      }
    },
    {
      "cell_type": "markdown",
      "source": [
        "#Problem - 1:\n",
        "Create a DataFrame that is subsetted for the columns ’Name’, ’Pclass’, ’Sex’, ’Age’, ’Fare’, and ’Survived’.\n",
        "Retain only those rows where ’Pclass’ is equal to 1, representing first-class passengers. What is the mean,\n",
        "median, maximum value, and minimum value of the ’Fare’ column?"
      ],
      "metadata": {
        "id": "rmN-eUseUxdk"
      }
    },
    {
      "cell_type": "code",
      "source": [
        "#Creating a dataframe\n",
        "df=pd.DataFrame({\n",
        "    'Name': ['Alice','Bob','Charlie','Daisy','Chris'],\n",
        "    'Pclass':[1,2,1,2,3],\n",
        "    'Age':[18,20,None,22,21],\n",
        "    'Fare':[400,200,400,200,100],\n",
        "    'Survived':[1,0,1,1,1]\n",
        "})\n",
        "#checking the info of the dataframe\n",
        "df.info()"
      ],
      "metadata": {
        "colab": {
          "base_uri": "https://localhost:8080/"
        },
        "id": "ioOOxcIbU4hJ",
        "outputId": "4a20babb-8e11-4a60-c7bb-f610de7b33f9"
      },
      "execution_count": null,
      "outputs": [
        {
          "output_type": "stream",
          "name": "stdout",
          "text": [
            "<class 'pandas.core.frame.DataFrame'>\n",
            "RangeIndex: 5 entries, 0 to 4\n",
            "Data columns (total 5 columns):\n",
            " #   Column    Non-Null Count  Dtype  \n",
            "---  ------    --------------  -----  \n",
            " 0   Name      5 non-null      object \n",
            " 1   Pclass    5 non-null      int64  \n",
            " 2   Age       4 non-null      float64\n",
            " 3   Fare      5 non-null      int64  \n",
            " 4   Survived  5 non-null      int64  \n",
            "dtypes: float64(1), int64(3), object(1)\n",
            "memory usage: 328.0+ bytes\n"
          ]
        }
      ]
    },
    {
      "cell_type": "code",
      "source": [
        "#returns only those rows where Pclass is equal to 1\n",
        "first_class=df[df['Pclass']==1]\n",
        "print(\"Rows where Pclass is 1 = \\n\",first_class)"
      ],
      "metadata": {
        "colab": {
          "base_uri": "https://localhost:8080/"
        },
        "id": "FJTpGJABVKd5",
        "outputId": "9f61b370-1597-4d14-d549-db5da6fa51c2"
      },
      "execution_count": null,
      "outputs": [
        {
          "output_type": "stream",
          "name": "stdout",
          "text": [
            "Rows where Pclass is 1 = \n",
            "       Name  Pclass   Age  Fare  Survived\n",
            "0    Alice       1  18.0   400         1\n",
            "2  Charlie       1   NaN   400         1\n"
          ]
        }
      ]
    },
    {
      "cell_type": "code",
      "source": [
        "#Calculating mean\n",
        "fare_mean=df.Fare.mean()\n",
        "print(\"Mean of the fare column= \",fare_mean)"
      ],
      "metadata": {
        "colab": {
          "base_uri": "https://localhost:8080/"
        },
        "id": "DvDMOORuVOzU",
        "outputId": "06faed6d-de81-4721-93d9-101377216b6e"
      },
      "execution_count": null,
      "outputs": [
        {
          "output_type": "stream",
          "name": "stdout",
          "text": [
            "Mean of the fare column=  260.0\n"
          ]
        }
      ]
    },
    {
      "cell_type": "code",
      "source": [
        "#Calculating median\n",
        "fare_median=df.Fare.median()\n",
        "print(\"Median of the fare column= \",fare_median)"
      ],
      "metadata": {
        "colab": {
          "base_uri": "https://localhost:8080/"
        },
        "id": "1nWLO6vIVlNG",
        "outputId": "cef2e5d1-810b-4b93-f8a0-8f9a7d0a6d19"
      },
      "execution_count": null,
      "outputs": [
        {
          "output_type": "stream",
          "name": "stdout",
          "text": [
            "Median of the fare column=  200.0\n"
          ]
        }
      ]
    },
    {
      "cell_type": "code",
      "source": [
        "#Calculating Maximum value\n",
        "fare_max=df.Fare.max()\n",
        "print(\"Maximum value of the fare column= \",fare_max)"
      ],
      "metadata": {
        "colab": {
          "base_uri": "https://localhost:8080/"
        },
        "id": "OaxVM2qMVm3_",
        "outputId": "8e7db843-d488-44d9-ffdd-c284ca3ece08"
      },
      "execution_count": null,
      "outputs": [
        {
          "output_type": "stream",
          "name": "stdout",
          "text": [
            "Maximum value of the fare column=  400\n"
          ]
        }
      ]
    },
    {
      "cell_type": "code",
      "source": [
        "#Calculating minimum value\n",
        "fare_min=df.Fare.min()\n",
        "print(\"Minimum value of the fare column= \",fare_min)"
      ],
      "metadata": {
        "colab": {
          "base_uri": "https://localhost:8080/"
        },
        "id": "KgnHXU6uVt29",
        "outputId": "553fc804-584f-4324-b8a3-ef733f3003f7"
      },
      "execution_count": null,
      "outputs": [
        {
          "output_type": "stream",
          "name": "stdout",
          "text": [
            "Minimum value of the fare column=  100\n"
          ]
        }
      ]
    },
    {
      "cell_type": "markdown",
      "source": [
        "Problem - 2:\n",
        "How many null values are contained in the ’Age’ column in your subsetted DataFrame? Once you’ve found\n",
        "this out, drop them from your DataFrame."
      ],
      "metadata": {
        "id": "C7yzvc5JVynq"
      }
    },
    {
      "cell_type": "code",
      "source": [
        "#calculating the null values present in Age\n",
        "null_values=df['Age'].isnull().sum()\n",
        "print(\"Number of null values in Age column= \",null_values)"
      ],
      "metadata": {
        "colab": {
          "base_uri": "https://localhost:8080/"
        },
        "id": "GpZ4wrPpV0dv",
        "outputId": "0db9a374-0b43-4c2b-aeca-a57e96013c55"
      },
      "execution_count": null,
      "outputs": [
        {
          "output_type": "stream",
          "name": "stdout",
          "text": [
            "Number of null values in Age column=  1\n"
          ]
        }
      ]
    },
    {
      "cell_type": "code",
      "source": [
        "#dropping those rows which contain null values in Age column\n",
        "df=df.dropna(subset=['Age']) #subset=['Age'] this part shows that the operation should be focused in Age column\n",
        "print(\"Dataframe without null values=\\n\",df)"
      ],
      "metadata": {
        "colab": {
          "base_uri": "https://localhost:8080/"
        },
        "id": "QIv_5Ut_V67z",
        "outputId": "2d1a9225-4258-4079-a997-5efa233c3a88"
      },
      "execution_count": null,
      "outputs": [
        {
          "output_type": "stream",
          "name": "stdout",
          "text": [
            "Dataframe without null values=\n",
            "     Name  Pclass   Age  Fare  Survived\n",
            "0  Alice       1  18.0   400         1\n",
            "1    Bob       2  20.0   200         0\n",
            "3  Daisy       2  22.0   200         1\n",
            "4  Chris       3  21.0   100         1\n"
          ]
        }
      ]
    },
    {
      "cell_type": "markdown",
      "source": [
        "Problem - 3:\n",
        "\n",
        "The ’Embarked’ column in the Titanic dataset contains categorical data representing the ports of embarka-\n",
        "tion:\n",
        "\n",
        "• ’C’ for Cherbourg\n",
        "• ’Q’ for Queenstown\n",
        "• ’S’ for Southampton\n",
        "Task:\n",
        "1. Use one-hot encoding to convert the ’Embarked’ column into separate binary columns (’Embarked C’,\n",
        "’Embarked Q’, ’Embarked S’).\n",
        "2. Add these new columns to the original DataFrame.\n",
        "3. Drop the original ’Embarked’ column.\n",
        "4. Print the first few rows of the modified DataFrame to verify the changes."
      ],
      "metadata": {
        "id": "4b5W6mvIWFrE"
      }
    },
    {
      "cell_type": "code",
      "source": [
        "df=pd.read_csv(\"/content/drive/MyDrive/Concepts and Technology of AI/Titanic-Dataset.csv\")\n",
        "#1.Using one hot encoding to convert the 'Embarkeed' column into separate binary columns\n",
        "one_hot_encoding=pd.get_dummies(df['Embarked'],prefix=\"Embarked\") #converts the Embarked column into binary columns prefixed with Embarked_"
      ],
      "metadata": {
        "id": "0CUN1fmzWHMa"
      },
      "execution_count": null,
      "outputs": []
    },
    {
      "cell_type": "code",
      "source": [
        "#2.Concatenates the new columns to the original DataFrame along the columns axis.\n",
        "df_encoded=pd.concat([df,one_hot_encoding],axis=1)\n",
        "print(\"Using one hot encoding:\\n\",df_encoded)"
      ],
      "metadata": {
        "colab": {
          "base_uri": "https://localhost:8080/"
        },
        "id": "swOCXJ4OWUXU",
        "outputId": "551349a3-3a85-4538-8568-c1fc3ee1c21a"
      },
      "execution_count": null,
      "outputs": [
        {
          "output_type": "stream",
          "name": "stdout",
          "text": [
            "Using one hot encoding:\n",
            "      PassengerId  Survived  Pclass  \\\n",
            "0              1         0       3   \n",
            "1              2         1       1   \n",
            "2              3         1       3   \n",
            "3              4         1       1   \n",
            "4              5         0       3   \n",
            "..           ...       ...     ...   \n",
            "886          887         0       2   \n",
            "887          888         1       1   \n",
            "888          889         0       3   \n",
            "889          890         1       1   \n",
            "890          891         0       3   \n",
            "\n",
            "                                                  Name     Sex   Age  SibSp  \\\n",
            "0                              Braund, Mr. Owen Harris    male  22.0      1   \n",
            "1    Cumings, Mrs. John Bradley (Florence Briggs Th...  female  38.0      1   \n",
            "2                               Heikkinen, Miss. Laina  female  26.0      0   \n",
            "3         Futrelle, Mrs. Jacques Heath (Lily May Peel)  female  35.0      1   \n",
            "4                             Allen, Mr. William Henry    male  35.0      0   \n",
            "..                                                 ...     ...   ...    ...   \n",
            "886                              Montvila, Rev. Juozas    male  27.0      0   \n",
            "887                       Graham, Miss. Margaret Edith  female  19.0      0   \n",
            "888           Johnston, Miss. Catherine Helen \"Carrie\"  female   NaN      1   \n",
            "889                              Behr, Mr. Karl Howell    male  26.0      0   \n",
            "890                                Dooley, Mr. Patrick    male  32.0      0   \n",
            "\n",
            "     Parch            Ticket     Fare Cabin Embarked  Embarked_C  Embarked_Q  \\\n",
            "0        0         A/5 21171   7.2500   NaN        S       False       False   \n",
            "1        0          PC 17599  71.2833   C85        C        True       False   \n",
            "2        0  STON/O2. 3101282   7.9250   NaN        S       False       False   \n",
            "3        0            113803  53.1000  C123        S       False       False   \n",
            "4        0            373450   8.0500   NaN        S       False       False   \n",
            "..     ...               ...      ...   ...      ...         ...         ...   \n",
            "886      0            211536  13.0000   NaN        S       False       False   \n",
            "887      0            112053  30.0000   B42        S       False       False   \n",
            "888      2        W./C. 6607  23.4500   NaN        S       False       False   \n",
            "889      0            111369  30.0000  C148        C        True       False   \n",
            "890      0            370376   7.7500   NaN        Q       False        True   \n",
            "\n",
            "     Embarked_S  \n",
            "0          True  \n",
            "1         False  \n",
            "2          True  \n",
            "3          True  \n",
            "4          True  \n",
            "..          ...  \n",
            "886        True  \n",
            "887        True  \n",
            "888        True  \n",
            "889       False  \n",
            "890       False  \n",
            "\n",
            "[891 rows x 15 columns]\n"
          ]
        }
      ]
    },
    {
      "cell_type": "code",
      "source": [
        "#3.Dropping the original Embarked column\n",
        "df_without_embarked=df.drop(columns=['Embarked'])\n",
        "#printing the first five rows of the modified dataframe\n",
        "print(\"First five rows of dataframe without Embarked column=\\n\",df_without_embarked.head(5))"
      ],
      "metadata": {
        "colab": {
          "base_uri": "https://localhost:8080/"
        },
        "id": "HwXwuVU0Wa4I",
        "outputId": "48125288-7e5d-4633-f9f4-d48a7752db6d"
      },
      "execution_count": null,
      "outputs": [
        {
          "output_type": "stream",
          "name": "stdout",
          "text": [
            "First five rows of dataframe without Embarked column=\n",
            "    PassengerId  Survived  Pclass  \\\n",
            "0            1         0       3   \n",
            "1            2         1       1   \n",
            "2            3         1       3   \n",
            "3            4         1       1   \n",
            "4            5         0       3   \n",
            "\n",
            "                                                Name     Sex   Age  SibSp  \\\n",
            "0                            Braund, Mr. Owen Harris    male  22.0      1   \n",
            "1  Cumings, Mrs. John Bradley (Florence Briggs Th...  female  38.0      1   \n",
            "2                             Heikkinen, Miss. Laina  female  26.0      0   \n",
            "3       Futrelle, Mrs. Jacques Heath (Lily May Peel)  female  35.0      1   \n",
            "4                           Allen, Mr. William Henry    male  35.0      0   \n",
            "\n",
            "   Parch            Ticket     Fare Cabin  \n",
            "0      0         A/5 21171   7.2500   NaN  \n",
            "1      0          PC 17599  71.2833   C85  \n",
            "2      0  STON/O2. 3101282   7.9250   NaN  \n",
            "3      0            113803  53.1000  C123  \n",
            "4      0            373450   8.0500   NaN  \n"
          ]
        }
      ]
    },
    {
      "cell_type": "markdown",
      "source": [
        "Problem - 4:\n",
        "\n",
        "Compare the mean survival rates (’Survived’) for the different groups in the ’Sex’ column. Draw a visual-\n",
        "ization to show how the survival distributions vary by gender."
      ],
      "metadata": {
        "id": "LfP9d43DWjDV"
      }
    },
    {
      "cell_type": "code",
      "source": [
        "import matplotlib.pyplot as plt\n",
        "import seaborn as sns\n",
        "#Calculate the mean survival rates by gender\n",
        "mean_survival=df.groupby('Sex')['Survived'].mean()\n",
        "print(mean_survival)"
      ],
      "metadata": {
        "colab": {
          "base_uri": "https://localhost:8080/"
        },
        "id": "Z-SIThlkWkpT",
        "outputId": "38390915-0d8c-4295-b98e-781dd1c002b0"
      },
      "execution_count": null,
      "outputs": [
        {
          "output_type": "stream",
          "name": "stdout",
          "text": [
            "Sex\n",
            "female    0.742038\n",
            "male      0.188908\n",
            "Name: Survived, dtype: float64\n"
          ]
        }
      ]
    },
    {
      "cell_type": "code",
      "source": [
        "#Visualization: Mean survival rates by gender\n",
        "plt.figure(figsize=(8,6))\n",
        "sns.barplot(x=mean_survival.index, y=mean_survival.values, palette='pastel') #a bar plot showing the average survival rate for males and females\n",
        "plt.xlabel('Sex')\n",
        "plt.ylabel('Mean Survival Rate')\n",
        "plt.title('Mean Survival Rates by Gender')\n",
        "plt.show()"
      ],
      "metadata": {
        "colab": {
          "base_uri": "https://localhost:8080/",
          "height": 651
        },
        "id": "xJNqBRhUWsqa",
        "outputId": "02bf7a2d-20cb-4916-d266-354e1779fac2"
      },
      "execution_count": null,
      "outputs": [
        {
          "output_type": "stream",
          "name": "stderr",
          "text": [
            "<ipython-input-30-38cbcb74be1a>:3: FutureWarning: \n",
            "\n",
            "Passing `palette` without assigning `hue` is deprecated and will be removed in v0.14.0. Assign the `x` variable to `hue` and set `legend=False` for the same effect.\n",
            "\n",
            "  sns.barplot(x=mean_survival.index, y=mean_survival.values, palette='pastel') #a bar plot showing the average survival rate for males and females\n"
          ]
        },
        {
          "output_type": "display_data",
          "data": {
            "text/plain": [
              "<Figure size 800x600 with 1 Axes>"
            ],
            "image/png": "[encoded data removed]"
          },
          "metadata": {}
        }
      ]
    },
    {
      "cell_type": "code",
      "source": [
        "#Visualization: Suvival distributions by gender\n",
        "plt.figure(figsize=(8,6))\n",
        "sns.violinplot(x='Sex', y='Survived', data=df, palette='pastel') #A violin plot showing the distribution of survival (0 or 1) for males and females.\n",
        "plt.xlabel('Sex')\n",
        "plt.ylabel('Survived')\n",
        "plt.title('Survival Distributions by Gender')\n",
        "plt.show()"
      ],
      "metadata": {
        "colab": {
          "base_uri": "https://localhost:8080/",
          "height": 651
        },
        "id": "5JS4vYerWuUU",
        "outputId": "d3cdd953-6d0c-4ddd-cc14-96b3b8119f90"
      },
      "execution_count": null,
      "outputs": [
        {
          "output_type": "stream",
          "name": "stderr",
          "text": [
            "<ipython-input-31-40abe57ff63b>:3: FutureWarning: \n",
            "\n",
            "Passing `palette` without assigning `hue` is deprecated and will be removed in v0.14.0. Assign the `x` variable to `hue` and set `legend=False` for the same effect.\n",
            "\n",
            "  sns.violinplot(x='Sex', y='Survived', data=df, palette='pastel') #A violin plot showing the distribution of survival (0 or 1) for males and females.\n"
          ]
        },
        {
          "output_type": "display_data",
          "data": {
            "text/plain": [
              "<Figure size 800x600 with 1 Axes>"
            ],
            "image/png": "[encoded data removed]"
          },
          "metadata": {}
        }
      ]
    },
    {
      "cell_type": "markdown",
      "source": [
        "Problem - 5:\n",
        "\n",
        "Draw a visualization that breaks your visualization from Exercise 3 down by the port of embarkation (’Em-\n",
        "barked’). In this instance, compare the ports ’C’ (Cherbourg), ’Q’ (Queenstown), and ’S’ (Southampton)."
      ],
      "metadata": {
        "id": "q116Z5fBW3zr"
      }
    },
    {
      "cell_type": "code",
      "source": [
        "# Visualization: Violin plot by gender and port of embarkation\n",
        "plt.figure(figsize=(10, 6))\n",
        "sns.violinplot(x='Sex', y='Survived', hue='Embarked', data=df, split=True, palette='muted')\n",
        "plt.title('Survival Distributions by Gender and Embarkation Port')\n",
        "plt.ylabel('Survived')\n",
        "plt.xlabel('Gender')\n",
        "plt.legend(title='Embarked')\n",
        "plt.show()"
      ],
      "metadata": {
        "colab": {
          "base_uri": "https://localhost:8080/",
          "height": 564
        },
        "id": "2x5oSMWyW5Sq",
        "outputId": "a32e8941-acab-4bf7-db4f-fba0daea47a3"
      },
      "execution_count": null,
      "outputs": [
        {
          "output_type": "display_data",
          "data": {
            "text/plain": [
              "<Figure size 1000x600 with 1 Axes>"
            ],
            "image/png": "[encoded data removed]"
          },
          "metadata": {}
        }
      ]
    }
  ]
}