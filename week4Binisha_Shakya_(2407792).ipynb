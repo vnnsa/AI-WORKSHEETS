{
  "nbformat": 4,
  "nbformat_minor": 0,
  "metadata": {
    "colab": {
      "provenance": []
    },
    "kernelspec": {
      "name": "python3",
      "display_name": "Python 3"
    },
    "language_info": {
      "name": "python"
    }
  },
  "cells": [
    {
      "cell_type": "code",
      "execution_count": null,
      "metadata": {
        "colab": {
          "base_uri": "https://localhost:8080/"
        },
        "id": "xSNjMeO7EUzG",
        "outputId": "382836de-fa2a-4893-e717-8de71c0e156b"
      },
      "outputs": [
        {
          "output_type": "stream",
          "name": "stdout",
          "text": [
            "Mounted at /content/drive\n"
          ]
        }
      ],
      "source": [
        "from google.colab import drive\n",
        "drive.mount('/content/drive')"
      ]
    },
    {
      "cell_type": "code",
      "source": [
        "import pandas as pd\n",
        "import numpy as np\n",
        "# Load the Titanic dataset\n",
        "data = pd.read_csv(\"/content/drive/MyDrive/Concept and Tech Of Ai/5CS037 - Cohort 11+12 - 2024 - Materials/Week -4-  Introduction to Learning Theory for Machine Learning/Dataset/diabetes.csv\")\n",
        "# Drop all categorical columns except 'Survived'\n",
        "categorical_columns = data.select_dtypes(include=['object']).columns\n",
        "data = data.drop(columns=[col for col in categorical_columns if col != 'Survived'])\n",
        "# Check for missing values\n",
        "missing_info = data.isnull().sum() / len(data) * 100\n",
        "# Handle missing values\n",
        "for column in data.columns:\n",
        "  if missing_info[column] > 10: # If more than 10% missing\n",
        "      data[column].fillna(data[column].mean(), inplace=True)\n",
        "  else: # If less than 10% missing\n",
        "    data.dropna(subset=[column], inplace=True)\n",
        "# Display cleaned data\n",
        "print(\"Data after processing:\\n\", data.head())\n",
        "print(\"\\nMissing values after processing:\\n\", data.isnull().sum())"
      ],
      "metadata": {
        "colab": {
          "base_uri": "https://localhost:8080/"
        },
        "id": "tyTvM29rEvlx",
        "outputId": "d0e36b5e-3c6e-41dd-d56e-71b1962b37a6"
      },
      "execution_count": null,
      "outputs": [
        {
          "output_type": "stream",
          "name": "stdout",
          "text": [
            "Data after processing:\n",
            "    Pregnancies  Glucose  BloodPressure  SkinThickness  Insulin   BMI  \\\n",
            "0            6      148             72             35        0  33.6   \n",
            "1            1       85             66             29        0  26.6   \n",
            "2            8      183             64              0        0  23.3   \n",
            "3            1       89             66             23       94  28.1   \n",
            "4            0      137             40             35      168  43.1   \n",
            "\n",
            "   DiabetesPedigreeFunction  Age  Outcome  \n",
            "0                     0.627   50        1  \n",
            "1                     0.351   31        0  \n",
            "2                     0.672   32        1  \n",
            "3                     0.167   21        0  \n",
            "4                     2.288   33        1  \n",
            "\n",
            "Missing values after processing:\n",
            " Pregnancies                 0\n",
            "Glucose                     0\n",
            "BloodPressure               0\n",
            "SkinThickness               0\n",
            "Insulin                     0\n",
            "BMI                         0\n",
            "DiabetesPedigreeFunction    0\n",
            "Age                         0\n",
            "Outcome                     0\n",
            "dtype: int64\n"
          ]
        }
      ]
    },
    {
      "cell_type": "markdown",
      "source": [
        "Problem - 1: Perform a classification task with knn from scratch.\n",
        "1. Load the Dataset:\n",
        "\n",
        "• Read the dataset into a pandas DataFrame.\n",
        "\n",
        "• Display the first few rows and perform exploratory data analysis (EDA) to understand the dataset\n",
        "(e.g., check data types, missing values, summary statistics)."
      ],
      "metadata": {
        "id": "Lt8yyUz8E_nX"
      }
    },
    {
      "cell_type": "code",
      "source": [
        "import pandas as pd\n",
        "\n",
        "# Step 1:Load the Dataset\n",
        "dataset_path='/content/drive/MyDrive/Concept and Tech Of Ai/5CS037 - Cohort 11+12 - 2024 - Materials/Week -4-  Introduction to Learning Theory for Machine Learning/Dataset/diabetes.csv'\n",
        "df = pd.read_csv(dataset_path)\n",
        "\n",
        "# Step 2:Display the first few rows of the dataset\n",
        "print(\"First 5 rows of the dataset:\")\n",
        "print(df.head())\n",
        "\n",
        "# Step 3:Check the data types of the columns\n",
        "print(\"\\nData types of each column:\")\n",
        "print(df.dtypes)\n",
        "\n",
        "# Step 4:Check for missing values\n",
        "print(\"\\nMissing values in the dataset:\")\n",
        "print(df.isnull().sum())\n",
        "\n",
        "# Step 5:Summary statistics of the dataset\n",
        "print(\"\\nSummary statistics:\")\n",
        "print(df.describe())\n",
        "\n",
        "if 'target_column' in df.columns:\n",
        "    print(\"\\nClass distribution:\")\n",
        "    print(df['target_column'].value_counts())"
      ],
      "metadata": {
        "colab": {
          "base_uri": "https://localhost:8080/"
        },
        "id": "jrVsDaH4EvYA",
        "outputId": "bb6826cc-8a11-451f-c6ae-5812687cd8d7"
      },
      "execution_count": null,
      "outputs": [
        {
          "output_type": "stream",
          "name": "stdout",
          "text": [
            "First 5 rows of the dataset:\n",
            "   Pregnancies  Glucose  BloodPressure  SkinThickness  Insulin   BMI  \\\n",
            "0            6      148             72             35        0  33.6   \n",
            "1            1       85             66             29        0  26.6   \n",
            "2            8      183             64              0        0  23.3   \n",
            "3            1       89             66             23       94  28.1   \n",
            "4            0      137             40             35      168  43.1   \n",
            "\n",
            "   DiabetesPedigreeFunction  Age  Outcome  \n",
            "0                     0.627   50        1  \n",
            "1                     0.351   31        0  \n",
            "2                     0.672   32        1  \n",
            "3                     0.167   21        0  \n",
            "4                     2.288   33        1  \n",
            "\n",
            "Data types of each column:\n",
            "Pregnancies                   int64\n",
            "Glucose                       int64\n",
            "BloodPressure                 int64\n",
            "SkinThickness                 int64\n",
            "Insulin                       int64\n",
            "BMI                         float64\n",
            "DiabetesPedigreeFunction    float64\n",
            "Age                           int64\n",
            "Outcome                       int64\n",
            "dtype: object\n",
            "\n",
            "Missing values in the dataset:\n",
            "Pregnancies                 0\n",
            "Glucose                     0\n",
            "BloodPressure               0\n",
            "SkinThickness               0\n",
            "Insulin                     0\n",
            "BMI                         0\n",
            "DiabetesPedigreeFunction    0\n",
            "Age                         0\n",
            "Outcome                     0\n",
            "dtype: int64\n",
            "\n",
            "Summary statistics:\n",
            "       Pregnancies     Glucose  BloodPressure  SkinThickness     Insulin  \\\n",
            "count   768.000000  768.000000     768.000000     768.000000  768.000000   \n",
            "mean      3.845052  120.894531      69.105469      20.536458   79.799479   \n",
            "std       3.369578   31.972618      19.355807      15.952218  115.244002   \n",
            "min       0.000000    0.000000       0.000000       0.000000    0.000000   \n",
            "25%       1.000000   99.000000      62.000000       0.000000    0.000000   \n",
            "50%       3.000000  117.000000      72.000000      23.000000   30.500000   \n",
            "75%       6.000000  140.250000      80.000000      32.000000  127.250000   \n",
            "max      17.000000  199.000000     122.000000      99.000000  846.000000   \n",
            "\n",
            "              BMI  DiabetesPedigreeFunction         Age     Outcome  \n",
            "count  768.000000                768.000000  768.000000  768.000000  \n",
            "mean    31.992578                  0.471876   33.240885    0.348958  \n",
            "std      7.884160                  0.331329   11.760232    0.476951  \n",
            "min      0.000000                  0.078000   21.000000    0.000000  \n",
            "25%     27.300000                  0.243750   24.000000    0.000000  \n",
            "50%     32.000000                  0.372500   29.000000    0.000000  \n",
            "75%     36.600000                  0.626250   41.000000    1.000000  \n",
            "max     67.100000                  2.420000   81.000000    1.000000  \n"
          ]
        }
      ]
    },
    {
      "cell_type": "markdown",
      "source": [
        "2. Handle Missing Data:\n",
        "• Handle any missing values appropriately, either by dropping or imputing them based on the data."
      ],
      "metadata": {
        "id": "Gz30P8IeFLWC"
      }
    },
    {
      "cell_type": "code",
      "source": [
        "# Columns where zero values might not make sense and could represent missing data\n",
        "columns_with_possible_missing_values=['Glucose','BloodPressure','SkinThickness','Insulin','BMI']\n",
        "\n",
        "# Replace zero values with the median of each column\n",
        "for column in columns_with_possible_missing_values:\n",
        "    median_value=df[column].median()\n",
        "    df[column]=df[column].replace(0,median_value)\n",
        "\n",
        "# Verify that missing values (zeros) have been handled\n",
        "updated_summary_statistics=df.describe()\n",
        "\n",
        "# Display the updated summary statistics to ensure zero values are addressed\n",
        "updated_summary_statistics"
      ],
      "metadata": {
        "colab": {
          "base_uri": "https://localhost:8080/",
          "height": 320
        },
        "id": "yZa8iexSFMHM",
        "outputId": "1ac23a0d-512e-4e92-e767-46c82548b968"
      },
      "execution_count": null,
      "outputs": [
        {
          "output_type": "execute_result",
          "data": {
            "text/plain": [
              "       Pregnancies     Glucose  BloodPressure  SkinThickness     Insulin  \\\n",
              "count   768.000000  768.000000     768.000000     768.000000  768.000000   \n",
              "mean      3.845052  121.656250      72.386719      27.334635   94.652344   \n",
              "std       3.369578   30.438286      12.096642       9.229014  105.547598   \n",
              "min       0.000000   44.000000      24.000000       7.000000   14.000000   \n",
              "25%       1.000000   99.750000      64.000000      23.000000   30.500000   \n",
              "50%       3.000000  117.000000      72.000000      23.000000   31.250000   \n",
              "75%       6.000000  140.250000      80.000000      32.000000  127.250000   \n",
              "max      17.000000  199.000000     122.000000      99.000000  846.000000   \n",
              "\n",
              "              BMI  DiabetesPedigreeFunction         Age     Outcome  \n",
              "count  768.000000                768.000000  768.000000  768.000000  \n",
              "mean    32.450911                  0.471876   33.240885    0.348958  \n",
              "std      6.875366                  0.331329   11.760232    0.476951  \n",
              "min     18.200000                  0.078000   21.000000    0.000000  \n",
              "25%     27.500000                  0.243750   24.000000    0.000000  \n",
              "50%     32.000000                  0.372500   29.000000    0.000000  \n",
              "75%     36.600000                  0.626250   41.000000    1.000000  \n",
              "max     67.100000                  2.420000   81.000000    1.000000  "
            ],
            "text/html": [
              "\n",
              "  <div id=\"df-461c4efc-5478-4b3d-af62-0b3e2aa725a7\" class=\"colab-df-container\">\n",
              "    <div>\n",
              "<style scoped>\n",
              "    .dataframe tbody tr th:only-of-type {\n",
              "        vertical-align: middle;\n",
              "    }\n",
              "\n",
              "    .dataframe tbody tr th {\n",
              "        vertical-align: top;\n",
              "    }\n",
              "\n",
              "    .dataframe thead th {\n",
              "        text-align: right;\n",
              "    }\n",
              "</style>\n",
              "<table border=\"1\" class=\"dataframe\">\n",
              "  <thead>\n",
              "    <tr style=\"text-align: right;\">\n",
              "      <th></th>\n",
              "      <th>Pregnancies</th>\n",
              "      <th>Glucose</th>\n",
              "      <th>BloodPressure</th>\n",
              "      <th>SkinThickness</th>\n",
              "      <th>Insulin</th>\n",
              "      <th>BMI</th>\n",
              "      <th>DiabetesPedigreeFunction</th>\n",
              "      <th>Age</th>\n",
              "      <th>Outcome</th>\n",
              "    </tr>\n",
              "  </thead>\n",
              "  <tbody>\n",
              "    <tr>\n",
              "      <th>count</th>\n",
              "      <td>768.000000</td>\n",
              "      <td>768.000000</td>\n",
              "      <td>768.000000</td>\n",
              "      <td>768.000000</td>\n",
              "      <td>768.000000</td>\n",
              "      <td>768.000000</td>\n",
              "      <td>768.000000</td>\n",
              "      <td>768.000000</td>\n",
              "      <td>768.000000</td>\n",
              "    </tr>\n",
              "    <tr>\n",
              "      <th>mean</th>\n",
              "      <td>3.845052</td>\n",
              "      <td>121.656250</td>\n",
              "      <td>72.386719</td>\n",
              "      <td>27.334635</td>\n",
              "      <td>94.652344</td>\n",
              "      <td>32.450911</td>\n",
              "      <td>0.471876</td>\n",
              "      <td>33.240885</td>\n",
              "      <td>0.348958</td>\n",
              "    </tr>\n",
              "    <tr>\n",
              "      <th>std</th>\n",
              "      <td>3.369578</td>\n",
              "      <td>30.438286</td>\n",
              "      <td>12.096642</td>\n",
              "      <td>9.229014</td>\n",
              "      <td>105.547598</td>\n",
              "      <td>6.875366</td>\n",
              "      <td>0.331329</td>\n",
              "      <td>11.760232</td>\n",
              "      <td>0.476951</td>\n",
              "    </tr>\n",
              "    <tr>\n",
              "      <th>min</th>\n",
              "      <td>0.000000</td>\n",
              "      <td>44.000000</td>\n",
              "      <td>24.000000</td>\n",
              "      <td>7.000000</td>\n",
              "      <td>14.000000</td>\n",
              "      <td>18.200000</td>\n",
              "      <td>0.078000</td>\n",
              "      <td>21.000000</td>\n",
              "      <td>0.000000</td>\n",
              "    </tr>\n",
              "    <tr>\n",
              "      <th>25%</th>\n",
              "      <td>1.000000</td>\n",
              "      <td>99.750000</td>\n",
              "      <td>64.000000</td>\n",
              "      <td>23.000000</td>\n",
              "      <td>30.500000</td>\n",
              "      <td>27.500000</td>\n",
              "      <td>0.243750</td>\n",
              "      <td>24.000000</td>\n",
              "      <td>0.000000</td>\n",
              "    </tr>\n",
              "    <tr>\n",
              "      <th>50%</th>\n",
              "      <td>3.000000</td>\n",
              "      <td>117.000000</td>\n",
              "      <td>72.000000</td>\n",
              "      <td>23.000000</td>\n",
              "      <td>31.250000</td>\n",
              "      <td>32.000000</td>\n",
              "      <td>0.372500</td>\n",
              "      <td>29.000000</td>\n",
              "      <td>0.000000</td>\n",
              "    </tr>\n",
              "    <tr>\n",
              "      <th>75%</th>\n",
              "      <td>6.000000</td>\n",
              "      <td>140.250000</td>\n",
              "      <td>80.000000</td>\n",
              "      <td>32.000000</td>\n",
              "      <td>127.250000</td>\n",
              "      <td>36.600000</td>\n",
              "      <td>0.626250</td>\n",
              "      <td>41.000000</td>\n",
              "      <td>1.000000</td>\n",
              "    </tr>\n",
              "    <tr>\n",
              "      <th>max</th>\n",
              "      <td>17.000000</td>\n",
              "      <td>199.000000</td>\n",
              "      <td>122.000000</td>\n",
              "      <td>99.000000</td>\n",
              "      <td>846.000000</td>\n",
              "      <td>67.100000</td>\n",
              "      <td>2.420000</td>\n",
              "      <td>81.000000</td>\n",
              "      <td>1.000000</td>\n",
              "    </tr>\n",
              "  </tbody>\n",
              "</table>\n",
              "</div>\n",
              "    <div class=\"colab-df-buttons\">\n",
              "\n",
              "  <div class=\"colab-df-container\">\n",
              "    <button class=\"colab-df-convert\" onclick=\"convertToInteractive('df-461c4efc-5478-4b3d-af62-0b3e2aa725a7')\"\n",
              "            title=\"Convert this dataframe to an interactive table.\"\n",
              "            style=\"display:none;\">\n",
              "\n",
              "  <svg xmlns=\"http://www.w3.org/2000/svg\" height=\"24px\" viewBox=\"0 -960 960 960\">\n",
              "    <path d=\"M120-120v-720h720v720H120Zm60-500h600v-160H180v160Zm220 220h160v-160H400v160Zm0 220h160v-160H400v160ZM180-400h160v-160H180v160Zm440 0h160v-160H620v160ZM180-180h160v-160H180v160Zm440 0h160v-160H620v160Z\"/>\n",
              "  </svg>\n",
              "    </button>\n",
              "\n",
              "  <style>\n",
              "    .colab-df-container {\n",
              "      display:flex;\n",
              "      gap: 12px;\n",
              "    }\n",
              "\n",
              "    .colab-df-convert {\n",
              "      background-color: #E8F0FE;\n",
              "      border: none;\n",
              "      border-radius: 50%;\n",
              "      cursor: pointer;\n",
              "      display: none;\n",
              "      fill: #1967D2;\n",
              "      height: 32px;\n",
              "      padding: 0 0 0 0;\n",
              "      width: 32px;\n",
              "    }\n",
              "\n",
              "    .colab-df-convert:hover {\n",
              "      background-color: #E2EBFA;\n",
              "      box-shadow: 0px 1px 2px rgba(60, 64, 67, 0.3), 0px 1px 3px 1px rgba(60, 64, 67, 0.15);\n",
              "      fill: #174EA6;\n",
              "    }\n",
              "\n",
              "    .colab-df-buttons div {\n",
              "      margin-bottom: 4px;\n",
              "    }\n",
              "\n",
              "    [theme=dark] .colab-df-convert {\n",
              "      background-color: #3B4455;\n",
              "      fill: #D2E3FC;\n",
              "    }\n",
              "\n",
              "    [theme=dark] .colab-df-convert:hover {\n",
              "      background-color: #434B5C;\n",
              "      box-shadow: 0px 1px 3px 1px rgba(0, 0, 0, 0.15);\n",
              "      filter: drop-shadow(0px 1px 2px rgba(0, 0, 0, 0.3));\n",
              "      fill: #FFFFFF;\n",
              "    }\n",
              "  </style>\n",
              "\n",
              "    <script>\n",
              "      const buttonEl =\n",
              "        document.querySelector('#df-461c4efc-5478-4b3d-af62-0b3e2aa725a7 button.colab-df-convert');\n",
              "      buttonEl.style.display =\n",
              "        google.colab.kernel.accessAllowed ? 'block' : 'none';\n",
              "\n",
              "      async function convertToInteractive(key) {\n",
              "        const element = document.querySelector('#df-461c4efc-5478-4b3d-af62-0b3e2aa725a7');\n",
              "        const dataTable =\n",
              "          await google.colab.kernel.invokeFunction('convertToInteractive',\n",
              "                                                    [key], {});\n",
              "        if (!dataTable) return;\n",
              "\n",
              "        const docLinkHtml = 'Like what you see? Visit the ' +\n",
              "          '<a target=\"_blank\" href=https://colab.research.google.com/notebooks/data_table.ipynb>data table notebook</a>'\n",
              "          + ' to learn more about interactive tables.';\n",
              "        element.innerHTML = '';\n",
              "        dataTable['output_type'] = 'display_data';\n",
              "        await google.colab.output.renderOutput(dataTable, element);\n",
              "        const docLink = document.createElement('div');\n",
              "        docLink.innerHTML = docLinkHtml;\n",
              "        element.appendChild(docLink);\n",
              "      }\n",
              "    </script>\n",
              "  </div>\n",
              "\n",
              "\n",
              "<div id=\"df-6637b57e-8935-4d5b-ada9-9cbf0c01f0d8\">\n",
              "  <button class=\"colab-df-quickchart\" onclick=\"quickchart('df-6637b57e-8935-4d5b-ada9-9cbf0c01f0d8')\"\n",
              "            title=\"Suggest charts\"\n",
              "            style=\"display:none;\">\n",
              "\n",
              "<svg xmlns=\"http://www.w3.org/2000/svg\" height=\"24px\"viewBox=\"0 0 24 24\"\n",
              "     width=\"24px\">\n",
              "    <g>\n",
              "        <path d=\"M19 3H5c-1.1 0-2 .9-2 2v14c0 1.1.9 2 2 2h14c1.1 0 2-.9 2-2V5c0-1.1-.9-2-2-2zM9 17H7v-7h2v7zm4 0h-2V7h2v10zm4 0h-2v-4h2v4z\"/>\n",
              "    </g>\n",
              "</svg>\n",
              "  </button>\n",
              "\n",
              "<style>\n",
              "  .colab-df-quickchart {\n",
              "      --bg-color: #E8F0FE;\n",
              "      --fill-color: #1967D2;\n",
              "      --hover-bg-color: #E2EBFA;\n",
              "      --hover-fill-color: #174EA6;\n",
              "      --disabled-fill-color: #AAA;\n",
              "      --disabled-bg-color: #DDD;\n",
              "  }\n",
              "\n",
              "  [theme=dark] .colab-df-quickchart {\n",
              "      --bg-color: #3B4455;\n",
              "      --fill-color: #D2E3FC;\n",
              "      --hover-bg-color: #434B5C;\n",
              "      --hover-fill-color: #FFFFFF;\n",
              "      --disabled-bg-color: #3B4455;\n",
              "      --disabled-fill-color: #666;\n",
              "  }\n",
              "\n",
              "  .colab-df-quickchart {\n",
              "    background-color: var(--bg-color);\n",
              "    border: none;\n",
              "    border-radius: 50%;\n",
              "    cursor: pointer;\n",
              "    display: none;\n",
              "    fill: var(--fill-color);\n",
              "    height: 32px;\n",
              "    padding: 0;\n",
              "    width: 32px;\n",
              "  }\n",
              "\n",
              "  .colab-df-quickchart:hover {\n",
              "    background-color: var(--hover-bg-color);\n",
              "    box-shadow: 0 1px 2px rgba(60, 64, 67, 0.3), 0 1px 3px 1px rgba(60, 64, 67, 0.15);\n",
              "    fill: var(--button-hover-fill-color);\n",
              "  }\n",
              "\n",
              "  .colab-df-quickchart-complete:disabled,\n",
              "  .colab-df-quickchart-complete:disabled:hover {\n",
              "    background-color: var(--disabled-bg-color);\n",
              "    fill: var(--disabled-fill-color);\n",
              "    box-shadow: none;\n",
              "  }\n",
              "\n",
              "  .colab-df-spinner {\n",
              "    border: 2px solid var(--fill-color);\n",
              "    border-color: transparent;\n",
              "    border-bottom-color: var(--fill-color);\n",
              "    animation:\n",
              "      spin 1s steps(1) infinite;\n",
              "  }\n",
              "\n",
              "  @keyframes spin {\n",
              "    0% {\n",
              "      border-color: transparent;\n",
              "      border-bottom-color: var(--fill-color);\n",
              "      border-left-color: var(--fill-color);\n",
              "    }\n",
              "    20% {\n",
              "      border-color: transparent;\n",
              "      border-left-color: var(--fill-color);\n",
              "      border-top-color: var(--fill-color);\n",
              "    }\n",
              "    30% {\n",
              "      border-color: transparent;\n",
              "      border-left-color: var(--fill-color);\n",
              "      border-top-color: var(--fill-color);\n",
              "      border-right-color: var(--fill-color);\n",
              "    }\n",
              "    40% {\n",
              "      border-color: transparent;\n",
              "      border-right-color: var(--fill-color);\n",
              "      border-top-color: var(--fill-color);\n",
              "    }\n",
              "    60% {\n",
              "      border-color: transparent;\n",
              "      border-right-color: var(--fill-color);\n",
              "    }\n",
              "    80% {\n",
              "      border-color: transparent;\n",
              "      border-right-color: var(--fill-color);\n",
              "      border-bottom-color: var(--fill-color);\n",
              "    }\n",
              "    90% {\n",
              "      border-color: transparent;\n",
              "      border-bottom-color: var(--fill-color);\n",
              "    }\n",
              "  }\n",
              "</style>\n",
              "\n",
              "  <script>\n",
              "    async function quickchart(key) {\n",
              "      const quickchartButtonEl =\n",
              "        document.querySelector('#' + key + ' button');\n",
              "      quickchartButtonEl.disabled = true;  // To prevent multiple clicks.\n",
              "      quickchartButtonEl.classList.add('colab-df-spinner');\n",
              "      try {\n",
              "        const charts = await google.colab.kernel.invokeFunction(\n",
              "            'suggestCharts', [key], {});\n",
              "      } catch (error) {\n",
              "        console.error('Error during call to suggestCharts:', error);\n",
              "      }\n",
              "      quickchartButtonEl.classList.remove('colab-df-spinner');\n",
              "      quickchartButtonEl.classList.add('colab-df-quickchart-complete');\n",
              "    }\n",
              "    (() => {\n",
              "      let quickchartButtonEl =\n",
              "        document.querySelector('#df-6637b57e-8935-4d5b-ada9-9cbf0c01f0d8 button');\n",
              "      quickchartButtonEl.style.display =\n",
              "        google.colab.kernel.accessAllowed ? 'block' : 'none';\n",
              "    })();\n",
              "  </script>\n",
              "</div>\n",
              "\n",
              "  <div id=\"id_7483e135-1fbf-4ebc-9527-dd654b2896b1\">\n",
              "    <style>\n",
              "      .colab-df-generate {\n",
              "        background-color: #E8F0FE;\n",
              "        border: none;\n",
              "        border-radius: 50%;\n",
              "        cursor: pointer;\n",
              "        display: none;\n",
              "        fill: #1967D2;\n",
              "        height: 32px;\n",
              "        padding: 0 0 0 0;\n",
              "        width: 32px;\n",
              "      }\n",
              "\n",
              "      .colab-df-generate:hover {\n",
              "        background-color: #E2EBFA;\n",
              "        box-shadow: 0px 1px 2px rgba(60, 64, 67, 0.3), 0px 1px 3px 1px rgba(60, 64, 67, 0.15);\n",
              "        fill: #174EA6;\n",
              "      }\n",
              "\n",
              "      [theme=dark] .colab-df-generate {\n",
              "        background-color: #3B4455;\n",
              "        fill: #D2E3FC;\n",
              "      }\n",
              "\n",
              "      [theme=dark] .colab-df-generate:hover {\n",
              "        background-color: #434B5C;\n",
              "        box-shadow: 0px 1px 3px 1px rgba(0, 0, 0, 0.15);\n",
              "        filter: drop-shadow(0px 1px 2px rgba(0, 0, 0, 0.3));\n",
              "        fill: #FFFFFF;\n",
              "      }\n",
              "    </style>\n",
              "    <button class=\"colab-df-generate\" onclick=\"generateWithVariable('updated_summary_statistics')\"\n",
              "            title=\"Generate code using this dataframe.\"\n",
              "            style=\"display:none;\">\n",
              "\n",
              "  <svg xmlns=\"http://www.w3.org/2000/svg\" height=\"24px\"viewBox=\"0 0 24 24\"\n",
              "       width=\"24px\">\n",
              "    <path d=\"M7,19H8.4L18.45,9,17,7.55,7,17.6ZM5,21V16.75L18.45,3.32a2,2,0,0,1,2.83,0l1.4,1.43a1.91,1.91,0,0,1,.58,1.4,1.91,1.91,0,0,1-.58,1.4L9.25,21ZM18.45,9,17,7.55Zm-12,3A5.31,5.31,0,0,0,4.9,8.1,5.31,5.31,0,0,0,1,6.5,5.31,5.31,0,0,0,4.9,4.9,5.31,5.31,0,0,0,6.5,1,5.31,5.31,0,0,0,8.1,4.9,5.31,5.31,0,0,0,12,6.5,5.46,5.46,0,0,0,6.5,12Z\"/>\n",
              "  </svg>\n",
              "    </button>\n",
              "    <script>\n",
              "      (() => {\n",
              "      const buttonEl =\n",
              "        document.querySelector('#id_7483e135-1fbf-4ebc-9527-dd654b2896b1 button.colab-df-generate');\n",
              "      buttonEl.style.display =\n",
              "        google.colab.kernel.accessAllowed ? 'block' : 'none';\n",
              "\n",
              "      buttonEl.onclick = () => {\n",
              "        google.colab.notebook.generateWithVariable('updated_summary_statistics');\n",
              "      }\n",
              "      })();\n",
              "    </script>\n",
              "  </div>\n",
              "\n",
              "    </div>\n",
              "  </div>\n"
            ],
            "application/vnd.google.colaboratory.intrinsic+json": {
              "type": "dataframe",
              "variable_name": "updated_summary_statistics",
              "summary": "{\n  \"name\": \"updated_summary_statistics\",\n  \"rows\": 8,\n  \"fields\": [\n    {\n      \"column\": \"Pregnancies\",\n      \"properties\": {\n        \"dtype\": \"number\",\n        \"std\": 269.85223453356366,\n        \"min\": 0.0,\n        \"max\": 768.0,\n        \"num_unique_values\": 8,\n        \"samples\": [\n          3.8450520833333335,\n          3.0,\n          768.0\n        ],\n        \"semantic_type\": \"\",\n        \"description\": \"\"\n      }\n    },\n    {\n      \"column\": \"Glucose\",\n      \"properties\": {\n        \"dtype\": \"number\",\n        \"std\": 239.51168557183297,\n        \"min\": 30.43828582241517,\n        \"max\": 768.0,\n        \"num_unique_values\": 8,\n        \"samples\": [\n          121.65625,\n          117.0,\n          768.0\n        ],\n        \"semantic_type\": \"\",\n        \"description\": \"\"\n      }\n    },\n    {\n      \"column\": \"BloodPressure\",\n      \"properties\": {\n        \"dtype\": \"number\",\n        \"std\": 251.2764376086552,\n        \"min\": 12.096641733978139,\n        \"max\": 768.0,\n        \"num_unique_values\": 8,\n        \"samples\": [\n          72.38671875,\n          72.0,\n          768.0\n        ],\n        \"semantic_type\": \"\",\n        \"description\": \"\"\n      }\n    },\n    {\n      \"column\": \"SkinThickness\",\n      \"properties\": {\n        \"dtype\": \"number\",\n        \"std\": 261.97903291393493,\n        \"min\": 7.0,\n        \"max\": 768.0,\n        \"num_unique_values\": 7,\n        \"samples\": [\n          768.0,\n          27.334635416666668,\n          32.0\n        ],\n        \"semantic_type\": \"\",\n        \"description\": \"\"\n      }\n    },\n    {\n      \"column\": \"Insulin\",\n      \"properties\": {\n        \"dtype\": \"number\",\n        \"std\": 345.43922059327565,\n        \"min\": 14.0,\n        \"max\": 846.0,\n        \"num_unique_values\": 8,\n        \"samples\": [\n          94.65234375,\n          31.25,\n          768.0\n        ],\n        \"semantic_type\": \"\",\n        \"description\": \"\"\n      }\n    },\n    {\n      \"column\": \"BMI\",\n      \"properties\": {\n        \"dtype\": \"number\",\n        \"std\": 260.9543845566356,\n        \"min\": 6.875366469974721,\n        \"max\": 768.0,\n        \"num_unique_values\": 8,\n        \"samples\": [\n          32.45091145833333,\n          32.0,\n          768.0\n        ],\n        \"semantic_type\": \"\",\n        \"description\": \"\"\n      }\n    },\n    {\n      \"column\": \"DiabetesPedigreeFunction\",\n      \"properties\": {\n        \"dtype\": \"number\",\n        \"std\": 271.3005221658502,\n        \"min\": 0.078,\n        \"max\": 768.0,\n        \"num_unique_values\": 8,\n        \"samples\": [\n          0.47187630208333325,\n          0.3725,\n          768.0\n        ],\n        \"semantic_type\": \"\",\n        \"description\": \"\"\n      }\n    },\n    {\n      \"column\": \"Age\",\n      \"properties\": {\n        \"dtype\": \"number\",\n        \"std\": 260.1941178528413,\n        \"min\": 11.76023154067868,\n        \"max\": 768.0,\n        \"num_unique_values\": 8,\n        \"samples\": [\n          33.240885416666664,\n          29.0,\n          768.0\n        ],\n        \"semantic_type\": \"\",\n        \"description\": \"\"\n      }\n    },\n    {\n      \"column\": \"Outcome\",\n      \"properties\": {\n        \"dtype\": \"number\",\n        \"std\": 271.3865920388932,\n        \"min\": 0.0,\n        \"max\": 768.0,\n        \"num_unique_values\": 5,\n        \"samples\": [\n          0.3489583333333333,\n          1.0,\n          0.4769513772427971\n        ],\n        \"semantic_type\": \"\",\n        \"description\": \"\"\n      }\n    }\n  ]\n}"
            }
          },
          "metadata": {},
          "execution_count": 10
        }
      ]
    },
    {
      "cell_type": "markdown",
      "source": [],
      "metadata": {
        "id": "RsSI7UKGFRZx"
      }
    },
    {
      "cell_type": "markdown",
      "source": [
        "3. Feature Engineering:\n",
        "• Separate the feature matrix (X) and target variable (y)."
      ],
      "metadata": {
        "id": "u6dVnlDF_Lqs"
      }
    },
    {
      "cell_type": "code",
      "source": [
        "X=df.drop(columns=['Outcome'])\n",
        "y=df['Outcome']\n",
        "\n",
        "# Display the shapes of X and y to verify the separation\n",
        "X_shape=X.shape\n",
        "y_shape=y.shape\n",
        "\n",
        "X_shape, y_shape"
      ],
      "metadata": {
        "colab": {
          "base_uri": "https://localhost:8080/"
        },
        "id": "0EelsPgKFWIU",
        "outputId": "ca481bed-b835-4029-aff7-bef61ef569ae"
      },
      "execution_count": null,
      "outputs": [
        {
          "output_type": "execute_result",
          "data": {
            "text/plain": [
              "((768, 8), (768,))"
            ]
          },
          "metadata": {},
          "execution_count": 11
        }
      ]
    },
    {
      "cell_type": "markdown",
      "source": [
        "Perform a train - test split from scratch using a 70% − 30% ratio."
      ],
      "metadata": {
        "id": "qSar96swFdZT"
      }
    },
    {
      "cell_type": "code",
      "source": [
        "import numpy as np\n",
        "\n",
        "# Set the random seed for reproducibility\n",
        "np.random.seed(42)\n",
        "\n",
        "# Generate shuffled indices\n",
        "indices=np.arange(len(X))\n",
        "np.random.shuffle(indices)\n",
        "\n",
        "# Calculate the split point for 70% training and 30% testing\n",
        "split_point=int(0.7*len(indices))\n",
        "\n",
        "# Split the indices into training and testing sets\n",
        "train_indices=indices[:split_point]\n",
        "test_indices=indices[split_point:]\n",
        "\n",
        "# Use the indices to split X and y\n",
        "X_train,X_test=X.iloc[train_indices],X.iloc[test_indices]\n",
        "y_train,y_test=y.iloc[train_indices],y.iloc[test_indices]\n",
        "\n",
        "# Display the shapes of the resulting splits\n",
        "X_train_shape=X_train.shape\n",
        "X_test_shape=X_test.shape\n",
        "y_train_shape=y_train.shape\n",
        "y_test_shape=y_test.shape\n",
        "\n",
        "X_train_shape, X_test_shape, y_train_shape, y_test_shape"
      ],
      "metadata": {
        "colab": {
          "base_uri": "https://localhost:8080/"
        },
        "id": "C7QbubKBFZwW",
        "outputId": "769ac2ea-ddc2-405d-dd3b-69b4ac1550a4"
      },
      "execution_count": null,
      "outputs": [
        {
          "output_type": "execute_result",
          "data": {
            "text/plain": [
              "((537, 8), (231, 8), (537,), (231,))"
            ]
          },
          "metadata": {},
          "execution_count": 12
        }
      ]
    },
    {
      "cell_type": "markdown",
      "source": [
        "4. Implement KNN : • Build the KNN algorithm from scratch (no libraries like sickit-learn for KNN)."
      ],
      "metadata": {
        "id": "cVLK-KtfF18n"
      }
    },
    {
      "cell_type": "code",
      "source": [
        "import numpy as np\n",
        "\n",
        "#Define the Euclidean distance function\n",
        "def euclidean_distance(point1,point2):\n",
        "    return np.sqrt(np.sum((point1-point2)**2))\n",
        "\n",
        "#Implement the KNN algorithm\n",
        "def knn(X_train,y_train,X_test,k=3):\n",
        "    predictions=[]\n",
        "    for test_point in X_test:\n",
        "        #Calculate distances from the test point to all training points\n",
        "        distances=[euclidean_distance(test_point, train_point) for train_point in X_train]\n",
        "\n",
        "        #Sort distances and get indices of the k nearest neighbors\n",
        "        k_indices=np.argsort(distances)[:k]\n",
        "\n",
        "        #Get the labels of the k nearest neighbors\n",
        "        k_labels=[y_train[idx] for idx in k_indices]\n",
        "\n",
        "        #Determine the majority label (most common class)\n",
        "        majority_label=max(set(k_labels),key=k_labels.count)\n",
        "        predictions.append(majority_label)\n",
        "    return predictions\n",
        "\n",
        "# Assuming X, y, X_train, X_test, y_train, y_test are defined in previous cells\n",
        "# If not, make sure to define them before running this code\n",
        "\n",
        "#Prepare data for testing the KNN\n",
        "#Convert the pandas DataFrames to numpy arrays\n",
        "X_train_np=X_train.to_numpy()\n",
        "X_test_np=X_test.to_numpy()\n",
        "y_train_np=y_train.to_numpy()\n",
        "y_test_np=y_test.to_numpy()\n",
        "\n",
        "#Use the KNN function to make predictions\n",
        "k=5\n",
        "predictions=knn(X_train_np, y_train_np, X_test_np, k=k)\n",
        "\n",
        "#Evaluate the model\n",
        "accuracy=np.mean(np.array(predictions)==y_test_np)\n",
        "\n",
        "#Display results\n",
        "predictions[:10], accuracy"
      ],
      "metadata": {
        "colab": {
          "base_uri": "https://localhost:8080/"
        },
        "id": "Iqv4C_boYCle",
        "outputId": "23e3d43b-e506-4395-8f6e-3b6d99053716"
      },
      "execution_count": null,
      "outputs": [
        {
          "output_type": "execute_result",
          "data": {
            "text/plain": [
              "([0, 1, 0, 0, 0, 0, 0, 0, 1, 0], 0.7359307359307359)"
            ]
          },
          "metadata": {},
          "execution_count": 13
        }
      ]
    },
    {
      "cell_type": "markdown",
      "source": [
        "Compute distances using Euclidean distance."
      ],
      "metadata": {
        "id": "aYkr8c6JY6vo"
      }
    },
    {
      "cell_type": "code",
      "source": [
        "# Compute the Euclidean distance between all test points and training points\n",
        "\n",
        "def euclidean_distance_matrix(X_train, X_test):\n",
        "    \"\"\"\n",
        "    Compute the Euclidean distance between each test point and all training points.\n",
        "    \"\"\"\n",
        "    distances=np.sqrt(np.sum((X_test[:, np.newaxis, :]-X_train[np.newaxis,:,:])**2,axis=2))\n",
        "    return distances\n",
        "\n",
        "# Calculate the distance matrix\n",
        "distance_matrix=euclidean_distance_matrix(X_train_np,X_test_np)\n",
        "\n",
        "# Display the shape of the distance matrix and the first few distances for verification\n",
        "distance_matrix_shape=distance_matrix.shape\n",
        "sample_distances=distance_matrix[:5, :5]\n",
        "distance_matrix_shape, sample_distances"
      ],
      "metadata": {
        "colab": {
          "base_uri": "https://localhost:8080/"
        },
        "id": "TdRqVC3wZAAj",
        "outputId": "eee405fc-751b-4319-9f4d-1de0e27d4b7c"
      },
      "execution_count": null,
      "outputs": [
        {
          "output_type": "execute_result",
          "data": {
            "text/plain": [
              "((231, 537),\n",
              " array([[170.89604045,  58.247995  ,  44.91559641,  61.11119545,\n",
              "          86.56085606],\n",
              "        [367.18704223, 520.69788755, 521.65250886, 521.3180864 ,\n",
              "         517.00639523],\n",
              "        [140.95990431,  38.75946073,  46.30228521,  41.15949509,\n",
              "          61.3116066 ],\n",
              "        [165.99364476,  32.26955196,  36.42565914,  32.57529886,\n",
              "          21.25874173],\n",
              "        [ 30.73780085, 180.96393091, 180.8565999 , 181.88063565,\n",
              "         188.63795811]]))"
            ]
          },
          "metadata": {},
          "execution_count": 14
        }
      ]
    },
    {
      "cell_type": "markdown",
      "source": [
        "Write functions for:\n",
        "– Predicting the class for a single query.\n",
        "– Predicting classes for all test samples."
      ],
      "metadata": {
        "id": "HGML34r8ZHx9"
      }
    },
    {
      "cell_type": "code",
      "source": [
        "import numpy as np\n",
        "\n",
        "# Function to compute the Euclidean distance\n",
        "def euclidean_distance(point1, point2):\n",
        "    return np.sqrt(np.sum((point1-point2)**2))\n",
        "\n",
        "# Function to predict the class for a single query\n",
        "def predict_single(X_train, y_train,query_point,k=3):\n",
        "    \"\"\"\n",
        "    Predict the class of a single query point using KNN.\n",
        "    \"\"\"\n",
        "    # Calculate distances from the query point to all training points\n",
        "    distances=[euclidean_distance(query_point,train_point) for train_point in X_train]\n",
        "\n",
        "    # Get indices of the k nearest neighbors\n",
        "    k_indices=np.argsort(distances)[:k]\n",
        "\n",
        "    # Retrieve the labels of the k nearest neighbors\n",
        "    k_labels=[y_train[idx] for idx in k_indices]\n",
        "\n",
        "    # Return the majority class label\n",
        "    return max(set(k_labels),key=k_labels.count)\n",
        "\n",
        "# Function to predict classes for all test samples\n",
        "def predict_all(X_train, y_train, X_test, k=3):\n",
        "    \"\"\"\n",
        "    Predict the classes for all query points in the test set using KNN.\n",
        "    \"\"\"\n",
        "    predictions=[]\n",
        "    for query_point in X_test:\n",
        "        prediction=predict_single(X_train,y_train,query_point, k)\n",
        "        predictions.append(prediction)\n",
        "    return predictions\n",
        "\n",
        "#Assuming X_train_np, y_train_np, X_test_np are numpy arrays\n",
        "k=5  # Number of neighbors\n",
        "predictions=predict_all(X_train_np, y_train_np, X_test_np, k=k)\n",
        "\n",
        "#Evaluate accuracy\n",
        "accuracy=np.mean(predictions==y_test_np)\n",
        "\n",
        "# Display the first 10 predictions and the accuracy\n",
        "predictions[:10], accuracy"
      ],
      "metadata": {
        "colab": {
          "base_uri": "https://localhost:8080/"
        },
        "id": "BkqGeiZMZCSK",
        "outputId": "5d33d96c-b271-479a-9d16-6fb3e8536710"
      },
      "execution_count": null,
      "outputs": [
        {
          "output_type": "execute_result",
          "data": {
            "text/plain": [
              "([0, 1, 0, 0, 0, 0, 0, 0, 1, 0], 0.7359307359307359)"
            ]
          },
          "metadata": {},
          "execution_count": 15
        }
      ]
    },
    {
      "cell_type": "code",
      "source": [
        "# Function to calculate accuracy\n",
        "def calculate_accuracy(y_true, y_pred):\n",
        "    \"\"\"\n",
        "    Calculate the accuracy of predictions compared to true labels.\n",
        "    \"\"\"\n",
        "    return np.mean(y_true == y_pred)\n",
        "\n",
        "# Calculate the accuracy of the predictions\n",
        "accuracy=calculate_accuracy(y_test_np, predictions)\n",
        "\n",
        "# Display the accuracy\n",
        "accuracy"
      ],
      "metadata": {
        "colab": {
          "base_uri": "https://localhost:8080/"
        },
        "id": "PN_cgrrUZNt4",
        "outputId": "c89e402c-e6b3-4211-8689-e23ccfad9da1"
      },
      "execution_count": null,
      "outputs": [
        {
          "output_type": "execute_result",
          "data": {
            "text/plain": [
              "0.7359307359307359"
            ]
          },
          "metadata": {},
          "execution_count": 16
        }
      ]
    },
    {
      "cell_type": "markdown",
      "source": [
        "Problem - 2 - Experimentation:\n",
        "1. Repeat the Classification Task:\n",
        "\n",
        "• Scale the Feature matrix X."
      ],
      "metadata": {
        "id": "tSHvki2pZPvA"
      }
    },
    {
      "cell_type": "code",
      "source": [
        "# Function to standardize the feature matrix\n",
        "def scale_features(X):\n",
        "    \"\"\"\n",
        "    Standardize the feature matrix so that each feature has a mean of 0 and a standard deviation of 1.\n",
        "    \"\"\"\n",
        "    mean=np.mean(X, axis=0)\n",
        "    std=np.std(X, axis=0)\n",
        "    return(X-mean)/std\n",
        "\n",
        "# Scale the training and test data\n",
        "X_train_scaled=scale_features(X_train_np)\n",
        "X_test_scaled=scale_features(X_test_np)\n",
        "\n",
        "# Verify scaling by checking the mean and std of the scaled training data\n",
        "train_mean=np.mean(X_train_scaled, axis=0)\n",
        "train_std=np.std(X_train_scaled, axis=0)\n",
        "\n",
        "train_mean, train_std"
      ],
      "metadata": {
        "colab": {
          "base_uri": "https://localhost:8080/"
        },
        "id": "M6ipH44FZPO_",
        "outputId": "e4aa3982-83de-4275-f597-b864072fcdee"
      },
      "execution_count": null,
      "outputs": [
        {
          "output_type": "execute_result",
          "data": {
            "text/plain": [
              "(array([-3.30792708e-17,  1.25701229e-16, -4.59801863e-16, -1.65396354e-16,\n",
              "         2.64634166e-17,  8.37319041e-16,  1.88551843e-16, -7.60823227e-17]),\n",
              " array([1., 1., 1., 1., 1., 1., 1., 1.]))"
            ]
          },
          "metadata": {},
          "execution_count": 17
        }
      ]
    },
    {
      "cell_type": "markdown",
      "source": [
        "Use the scaled data for training and testing the kNN Classifier."
      ],
      "metadata": {
        "id": "rICw4I9sZV_C"
      }
    },
    {
      "cell_type": "code",
      "source": [
        "from sklearn.neighbors import KNeighborsClassifier\n",
        "from sklearn.metrics import accuracy_score\n",
        "\n",
        "#Initialize the kNN Classifier (choose an appropriate value for k)\n",
        "k=5  # You can change this value based on your needs\n",
        "knn=KNeighborsClassifier(n_neighbors=k)\n",
        "\n",
        "#Train the kNN Classifier using scaled data\n",
        "knn.fit(X_train_scaled, y_train)\n",
        "\n",
        "#Make predictions on the scaled test data\n",
        "y_pred=knn.predict(X_test_scaled)\n",
        "\n",
        "#Evaluate the model using accuracy\n",
        "accuracy=accuracy_score(y_test, y_pred)\n",
        "print(f\"Accuracy of the kNN Classifier on scaled data: {accuracy:.2f}\")"
      ],
      "metadata": {
        "colab": {
          "base_uri": "https://localhost:8080/"
        },
        "id": "tcxhElSKZW6o",
        "outputId": "c0736535-7215-408e-89af-2635aeb8a8b1"
      },
      "execution_count": null,
      "outputs": [
        {
          "output_type": "stream",
          "name": "stdout",
          "text": [
            "Accuracy of the kNN Classifier on scaled data: 0.75\n"
          ]
        }
      ]
    },
    {
      "cell_type": "markdown",
      "source": [
        "Record the results."
      ],
      "metadata": {
        "id": "Nx52_w2-Zw-j"
      }
    },
    {
      "cell_type": "code",
      "source": [
        "from sklearn.neighbors import KNeighborsClassifier\n",
        "from sklearn.metrics import accuracy_score\n",
        "import numpy as np\n",
        "\n",
        "#Define the function to scale the features (if not already done)\n",
        "def scale_features(X):\n",
        "    \"\"\"\n",
        "    Standardize the feature matrix so that each feature has a mean of 0 and a standard deviation of 1.\n",
        "    \"\"\"\n",
        "    mean=np.mean(X,axis=0)\n",
        "    std=np.std(X,axis=0)\n",
        "    return (X-mean)/std\n",
        "\n",
        "#Scale the training and test data (replace X_train_np and X_test_np with your data)\n",
        "X_train_scaled=scale_features(X_train_np)\n",
        "X_test_scaled=scale_features(X_test_np)\n",
        "\n",
        "#Initialize the kNN Classifier (choose an appropriate value for k)\n",
        "k=5\n",
        "knn=KNeighborsClassifier(n_neighbors=k)\n",
        "\n",
        "#Train the kNN Classifier using scaled data\n",
        "knn.fit(X_train_scaled, y_train)\n",
        "\n",
        "#Make predictions on the scaled test data\n",
        "y_pred=knn.predict(X_test_scaled)\n",
        "\n",
        "#Evaluate the model using accuracy\n",
        "accuracy=accuracy_score(y_test, y_pred)\n",
        "print(f\"Accuracy of the kNN Classifier on scaled data: {accuracy:.2f}\")\n",
        "\n",
        "classification_results = {\n",
        "    \"Accuracy\": accuracy,\n",
        "    \"k\": k\n",
        "}\n",
        "print(\"Recorded results:\", classification_results)"
      ],
      "metadata": {
        "colab": {
          "base_uri": "https://localhost:8080/"
        },
        "id": "gEDBLrshZepy",
        "outputId": "362ca542-20b1-438c-d8a6-0ac315873b84"
      },
      "execution_count": null,
      "outputs": [
        {
          "output_type": "stream",
          "name": "stdout",
          "text": [
            "Accuracy of the kNN Classifier on scaled data: 0.75\n",
            "Recorded results: {'Accuracy': 0.7489177489177489, 'k': 5}\n"
          ]
        }
      ]
    },
    {
      "cell_type": "markdown",
      "source": [
        "2. Comparative Analysis: Compare the Results -\n",
        "\n",
        "• Compare the accuracy and performance of the kNN model on the original dataset from problem 1\n",
        "versus the scaled dataset."
      ],
      "metadata": {
        "id": "PqaYJBqjZ44j"
      }
    },
    {
      "cell_type": "code",
      "source": [
        "from sklearn.metrics import accuracy_score\n",
        "from sklearn.neighbors import KNeighborsClassifier\n",
        "import numpy as np\n",
        "\n",
        "#Define the function to scale the features (if not already done)\n",
        "def scale_features(X):\n",
        "    \"\"\"\n",
        "    Standardize the feature matrix so that each feature has a mean of 0 and a standard deviation of 1.\n",
        "    \"\"\"\n",
        "    mean=np.mean(X,axis=0)\n",
        "    std=np.std(X,axis=0)\n",
        "    return (X-mean)/std\n",
        "\n",
        "#Train and test on the original dataset (without scaling)\n",
        "k=5\n",
        "knn=KNeighborsClassifier(n_neighbors=k)\n",
        "\n",
        "#Train the kNN Classifier using the original (unscaled) data\n",
        "knn.fit(X_train_np, y_train)\n",
        "\n",
        "# Predict on the original test data\n",
        "y_pred_original=knn.predict(X_test_np)\n",
        "\n",
        "# Calculate accuracy on the original dataset\n",
        "accuracy_original = accuracy_score(y_test, y_pred_original)\n",
        "\n",
        "# Scale the training and test data\n",
        "X_train_scaled=scale_features(X_train_np)\n",
        "X_test_scaled=scale_features(X_test_np)\n",
        "\n",
        "# Train the kNN Classifier using the scaled data\n",
        "knn.fit(X_train_scaled, y_train)\n",
        "\n",
        "# Predict on the scaled test data\n",
        "y_pred_scaled=knn.predict(X_test_scaled)\n",
        "\n",
        "# Calculate accuracy on the scaled dataset\n",
        "accuracy_scaled=accuracy_score(y_test, y_pred_scaled)\n",
        "\n",
        "print(f\"Accuracy on original (unscaled) data: {accuracy_original:.2f}\")\n",
        "print(f\"Accuracy on scaled data: {accuracy_scaled:.2f}\")\n",
        "\n",
        "comparison_results={\n",
        "    \"Original Data Accuracy\": accuracy_original,\n",
        "    \"Scaled Data Accuracy\": accuracy_scaled,\n",
        "    \"k\": k\n",
        "}\n",
        "\n",
        "print(\"Comparative Analysis Results:\", comparison_results)"
      ],
      "metadata": {
        "colab": {
          "base_uri": "https://localhost:8080/"
        },
        "id": "QqGjgJhqZ3_R",
        "outputId": "79bbe046-c037-4702-fd98-077e15e549d1"
      },
      "execution_count": null,
      "outputs": [
        {
          "output_type": "stream",
          "name": "stdout",
          "text": [
            "Accuracy on original (unscaled) data: 0.74\n",
            "Accuracy on scaled data: 0.75\n",
            "Comparative Analysis Results: {'Original Data Accuracy': 0.7359307359307359, 'Scaled Data Accuracy': 0.7489177489177489, 'k': 5}\n"
          ]
        }
      ]
    },
    {
      "cell_type": "markdown",
      "source": [
        "Scaling significantly impacts the performance of the kNN classifier by ensuring all features contribute equally to the distance calculation. Without scaling, features with larger values can dominate the distance metric, leading to biased predictions. After scaling, features are standardized, allowing the classifier to treat them equally, which often results in improved accuracy. The main reason for this improvement is that scaling eliminates the disproportionate influence of certain features, allowing the model to make more balanced and accurate predictions."
      ],
      "metadata": {
        "id": "IGn55mCTaFZN"
      }
    },
    {
      "cell_type": "markdown",
      "source": [
        "Problem - 3 - Experimentation with k:\n",
        "1. Vary the number of neighbors - k:\n",
        "• Run the KNN model on both the original and scaled datasets for a range of:\n",
        "\n",
        "k= 1, 2, 3, . . . 15"
      ],
      "metadata": {
        "id": "OS29N_3IaIwp"
      }
    },
    {
      "cell_type": "code",
      "source": [
        "import numpy as np\n",
        "from sklearn.neighbors import KNeighborsClassifier\n",
        "from sklearn.metrics import accuracy_score\n",
        "\n",
        "#Function to scale the features\n",
        "def scale_features(X):\n",
        "    \"\"\"\n",
        "    Standardize the feature matrix so that each feature has a mean of 0 and a standard deviation of 1.\n",
        "    \"\"\"\n",
        "    mean=np.mean(X, axis=0)\n",
        "    std=np.std(X, axis=0)\n",
        "    return (X-mean)/std\n",
        "\n",
        "#Initialize kNN classifier\n",
        "k_values=range(1, 16)\n",
        "\n",
        "# Initialize dictionaries to store the results\n",
        "accuracy_original={}\n",
        "accuracy_scaled={}\n",
        "\n",
        "#Run kNN for both original and scaled datasets for k = 1 to 15\n",
        "for k in k_values:\n",
        "    knn_original=KNeighborsClassifier(n_neighbors=k)\n",
        "    knn_original.fit(X_train_np, y_train)\n",
        "    y_pred_original=knn_original.predict(X_test_np)\n",
        "    accuracy_original[k]=accuracy_score(y_test, y_pred_original)\n",
        "\n",
        "    X_train_scaled=scale_features(X_train_np)\n",
        "    X_test_scaled=scale_features(X_test_np)\n",
        "\n",
        "    knn_scaled=KNeighborsClassifier(n_neighbors=k)\n",
        "    knn_scaled.fit(X_train_scaled, y_train)\n",
        "    y_pred_scaled=knn_scaled.predict(X_test_scaled)\n",
        "    accuracy_scaled[k]=accuracy_score(y_test, y_pred_scaled)\n",
        "\n",
        "#Print comparative results for each k value\n",
        "print(\"Accuracy on Original Data (Unscaled) for k = 1 to 15:\")\n",
        "for k in k_values:\n",
        "    print(f\"k = {k}: {accuracy_original[k]:.2f}\")\n",
        "\n",
        "print(\"\\nAccuracy on Scaled Data for k = 1 to 15:\")\n",
        "for k in k_values:\n",
        "    print(f\"k = {k}: {accuracy_scaled[k]:.2f}\")\n",
        "\n",
        "comparison_results = {\n",
        "    \"Original Data Accuracy\": accuracy_original,\n",
        "    \"Scaled Data Accuracy\": accuracy_scaled\n",
        "}"
      ],
      "metadata": {
        "colab": {
          "base_uri": "https://localhost:8080/"
        },
        "id": "wKrej2SpaGPs",
        "outputId": "a93f1db5-2abe-471a-f110-ef9b011be87b"
      },
      "execution_count": null,
      "outputs": [
        {
          "output_type": "stream",
          "name": "stdout",
          "text": [
            "Accuracy on Original Data (Unscaled) for k = 1 to 15:\n",
            "k = 1: 0.68\n",
            "k = 2: 0.72\n",
            "k = 3: 0.73\n",
            "k = 4: 0.77\n",
            "k = 5: 0.74\n",
            "k = 6: 0.76\n",
            "k = 7: 0.74\n",
            "k = 8: 0.76\n",
            "k = 9: 0.74\n",
            "k = 10: 0.74\n",
            "k = 11: 0.74\n",
            "k = 12: 0.73\n",
            "k = 13: 0.74\n",
            "k = 14: 0.74\n",
            "k = 15: 0.75\n",
            "\n",
            "Accuracy on Scaled Data for k = 1 to 15:\n",
            "k = 1: 0.71\n",
            "k = 2: 0.72\n",
            "k = 3: 0.74\n",
            "k = 4: 0.75\n",
            "k = 5: 0.75\n",
            "k = 6: 0.74\n",
            "k = 7: 0.74\n",
            "k = 8: 0.75\n",
            "k = 9: 0.75\n",
            "k = 10: 0.77\n",
            "k = 11: 0.75\n",
            "k = 12: 0.77\n",
            "k = 13: 0.75\n",
            "k = 14: 0.76\n",
            "k = 15: 0.76\n"
          ]
        }
      ]
    },
    {
      "cell_type": "markdown",
      "source": [
        "For each k, record:\n",
        "\n",
        "– Accuracy.\n",
        "\n",
        "– Time taken to make predictions."
      ],
      "metadata": {
        "id": "P3vuclMAaPUK"
      }
    },
    {
      "cell_type": "code",
      "source": [
        "import numpy as np\n",
        "import time\n",
        "from sklearn.neighbors import KNeighborsClassifier\n",
        "from sklearn.metrics import accuracy_score\n",
        "\n",
        "#Function to scale the features (if not already done)\n",
        "def scale_features(X):\n",
        "    \"\"\"\n",
        "    Standardize the feature matrix so that each feature has a mean of 0 and a standard deviation of 1.\n",
        "    \"\"\"\n",
        "    mean=np.mean(X, axis=0)\n",
        "    std=np.std(X, axis=0)\n",
        "    return (X-mean)/std\n",
        "\n",
        "#Initialize kNN classifier\n",
        "k_values=range(1, 16)\n",
        "\n",
        "#initialize dictionaries to store the results\n",
        "accuracy_original={}\n",
        "accuracy_scaled={}\n",
        "time_original={}\n",
        "time_scaled={}\n",
        "\n",
        "#Run kNN for both original and scaled datasets for k = 1 to 15\n",
        "for k in k_values:\n",
        "    knn_original=KNeighborsClassifier(n_neighbors=k)\n",
        "    knn_original.fit(X_train_np, y_train)\n",
        "\n",
        "    start_time=time.time()\n",
        "    y_pred_original=knn_original.predict(X_test_np)\n",
        "    end_time=time.time()\n",
        "\n",
        "    accuracy_original[k]=accuracy_score(y_test, y_pred_original)\n",
        "    time_original[k]=end_time-start_time\n",
        "\n",
        "    X_train_scaled=scale_features(X_train_np)\n",
        "    X_test_scaled=scale_features(X_test_np)\n",
        "\n",
        "    knn_scaled=KNeighborsClassifier(n_neighbors=k)\n",
        "    knn_scaled.fit(X_train_scaled, y_train)\n",
        "\n",
        "    start_time=time.time()\n",
        "    y_pred_scaled=knn_scaled.predict(X_test_scaled)\n",
        "    end_time=time.time()\n",
        "\n",
        "    accuracy_scaled[k]=accuracy_score(y_test, y_pred_scaled)\n",
        "    time_scaled[k]=end_time-start_time\n",
        "\n",
        "#Print comparative results for each k value\n",
        "print(\"Accuracy and Time Taken on Original Data (Unscaled) for k = 1 to 15:\")\n",
        "for k in k_values:\n",
        "    print(f\"k = {k}: Accuracy = {accuracy_original[k]:.2f}, Time = {time_original[k]:.4f} seconds\")\n",
        "\n",
        "print(\"\\nAccuracy and Time Taken on Scaled Data for k = 1 to 15:\")\n",
        "for k in k_values:\n",
        "    print(f\"k = {k}: Accuracy = {accuracy_scaled[k]:.2f}, Time = {time_scaled[k]:.4f} seconds\")\n",
        "\n",
        "comparison_results = {\n",
        "    \"Original Data Accuracy\": accuracy_original,\n",
        "    \"Scaled Data Accuracy\": accuracy_scaled,\n",
        "    \"Original Data Time\": time_original,\n",
        "    \"Scaled Data Time\": time_scaled\n",
        "}\n"
      ],
      "metadata": {
        "id": "nCGWRAGsaQSZ",
        "outputId": "6f958bb4-7594-4bd5-b388-b6dc1693667d",
        "colab": {
          "base_uri": "https://localhost:8080/"
        }
      },
      "execution_count": null,
      "outputs": [
        {
          "output_type": "stream",
          "name": "stdout",
          "text": [
            "Accuracy and Time Taken on Original Data (Unscaled) for k = 1 to 15:\n",
            "k = 1: Accuracy = 0.68, Time = 0.0130 seconds\n",
            "k = 2: Accuracy = 0.72, Time = 0.0143 seconds\n",
            "k = 3: Accuracy = 0.73, Time = 0.0123 seconds\n",
            "k = 4: Accuracy = 0.77, Time = 0.0138 seconds\n",
            "k = 5: Accuracy = 0.74, Time = 0.0126 seconds\n",
            "k = 6: Accuracy = 0.76, Time = 0.0127 seconds\n",
            "k = 7: Accuracy = 0.74, Time = 0.0292 seconds\n",
            "k = 8: Accuracy = 0.76, Time = 0.0137 seconds\n",
            "k = 9: Accuracy = 0.74, Time = 0.0131 seconds\n",
            "k = 10: Accuracy = 0.74, Time = 0.0132 seconds\n",
            "k = 11: Accuracy = 0.74, Time = 0.0128 seconds\n",
            "k = 12: Accuracy = 0.73, Time = 0.0127 seconds\n",
            "k = 13: Accuracy = 0.74, Time = 0.0126 seconds\n",
            "k = 14: Accuracy = 0.74, Time = 0.0128 seconds\n",
            "k = 15: Accuracy = 0.75, Time = 0.0132 seconds\n",
            "\n",
            "Accuracy and Time Taken on Scaled Data for k = 1 to 15:\n",
            "k = 1: Accuracy = 0.71, Time = 0.0135 seconds\n",
            "k = 2: Accuracy = 0.72, Time = 0.0132 seconds\n",
            "k = 3: Accuracy = 0.74, Time = 0.0142 seconds\n",
            "k = 4: Accuracy = 0.75, Time = 0.0135 seconds\n",
            "k = 5: Accuracy = 0.75, Time = 0.0231 seconds\n",
            "k = 6: Accuracy = 0.74, Time = 0.0135 seconds\n",
            "k = 7: Accuracy = 0.74, Time = 0.0153 seconds\n",
            "k = 8: Accuracy = 0.75, Time = 0.0164 seconds\n",
            "k = 9: Accuracy = 0.75, Time = 0.0141 seconds\n",
            "k = 10: Accuracy = 0.77, Time = 0.0141 seconds\n",
            "k = 11: Accuracy = 0.75, Time = 0.0157 seconds\n",
            "k = 12: Accuracy = 0.77, Time = 0.0140 seconds\n",
            "k = 13: Accuracy = 0.75, Time = 0.0149 seconds\n",
            "k = 14: Accuracy = 0.76, Time = 0.0142 seconds\n",
            "k = 15: Accuracy = 0.76, Time = 0.0143 seconds\n"
          ]
        }
      ]
    }
  ]
}