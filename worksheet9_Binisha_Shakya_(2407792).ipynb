{
  "nbformat": 4,
  "nbformat_minor": 0,
  "metadata": {
    "colab": {
      "provenance": []
    },
    "kernelspec": {
      "name": "python3",
      "display_name": "Python 3"
    },
    "language_info": {
      "name": "python"
    }
  },
  "cells": [
    {
      "cell_type": "markdown",
      "source": [
        "Binisha Shakya (2407792)"
      ],
      "metadata": {
        "id": "8xjWhMS7LA5f"
      }
    },
    {
      "cell_type": "markdown",
      "source": [
        "1. Implement Classification Models:\n",
        "\n",
        "• Train a Decision Tree Classifier and a Random Forest Classifier using scikit-learn.\n",
        "\n",
        "• Compare the models based on their F1 scores."
      ],
      "metadata": {
        "id": "j7D3tqGnHPwC"
      }
    },
    {
      "cell_type": "code",
      "execution_count": null,
      "metadata": {
        "colab": {
          "base_uri": "https://localhost:8080/"
        },
        "id": "i9g3_noRHBAT",
        "outputId": "663abfef-32f5-458e-b07e-17e6577ff197"
      },
      "outputs": [
        {
          "output_type": "stream",
          "name": "stdout",
          "text": [
            "Decision Tree Classifier F1 Score: 0.9632208787381201\n",
            "Random Forest Classifier F1 Score: 1.0\n",
            "\n",
            "Decision Tree Classification Report:\n",
            "               precision    recall  f1-score   support\n",
            "\n",
            "           0       1.00      0.94      0.97        18\n",
            "           1       0.91      1.00      0.95        21\n",
            "           2       1.00      0.93      0.97        15\n",
            "\n",
            "    accuracy                           0.96        54\n",
            "   macro avg       0.97      0.96      0.96        54\n",
            "weighted avg       0.97      0.96      0.96        54\n",
            "\n",
            "Random Forest Classification Report:\n",
            "               precision    recall  f1-score   support\n",
            "\n",
            "           0       1.00      1.00      1.00        18\n",
            "           1       1.00      1.00      1.00        21\n",
            "           2       1.00      1.00      1.00        15\n",
            "\n",
            "    accuracy                           1.00        54\n",
            "   macro avg       1.00      1.00      1.00        54\n",
            "weighted avg       1.00      1.00      1.00        54\n",
            "\n"
          ]
        }
      ],
      "source": [
        "# Import necessary libraries\n",
        "from sklearn.datasets import load_wine\n",
        "from sklearn.model_selection import train_test_split\n",
        "from sklearn.tree import DecisionTreeClassifier\n",
        "from sklearn.ensemble import RandomForestClassifier\n",
        "from sklearn.metrics import f1_score, classification_report\n",
        "\n",
        "# Load the Wine dataset\n",
        "data = load_wine()\n",
        "X, y = data.data, data.target\n",
        "\n",
        "# Split the dataset into training and testing sets\n",
        "X_train, X_test, y_train, y_test = train_test_split(X, y, test_size=0.3, random_state=42, stratify=y)\n",
        "\n",
        "# Initialize and train the Decision Tree Classifier\n",
        "dt_model = DecisionTreeClassifier(random_state=42)\n",
        "dt_model.fit(X_train, y_train)\n",
        "\n",
        "# Predict with the Decision Tree Classifier\n",
        "dt_predictions = dt_model.predict(X_test)\n",
        "\n",
        "# Initialize and train the Random Forest Classifier\n",
        "rf_model = RandomForestClassifier(random_state=42, n_estimators=100)\n",
        "rf_model.fit(X_train, y_train)\n",
        "\n",
        "# Predict with the Random Forest Classifier\n",
        "rf_predictions = rf_model.predict(X_test)\n",
        "\n",
        "# Calculate F1 scores for both models\n",
        "dt_f1 = f1_score(y_test, dt_predictions, average='weighted')\n",
        "rf_f1 = f1_score(y_test, rf_predictions, average='weighted')\n",
        "\n",
        "# Print the results\n",
        "print(\"Decision Tree Classifier F1 Score:\", dt_f1)\n",
        "print(\"Random Forest Classifier F1 Score:\", rf_f1)\n",
        "\n",
        "# Print detailed classification reports\n",
        "print(\"\\nDecision Tree Classification Report:\\n\", classification_report(y_test, dt_predictions))\n",
        "print(\"Random Forest Classification Report:\\n\", classification_report(y_test, rf_predictions))\n"
      ]
    },
    {
      "cell_type": "markdown",
      "source": [
        "2. Hyperparameter Tuning:\n",
        "\n",
        "• Identify three hyperparameters of the Random Forest Classifier.\n",
        "\n",
        "• Perform hyperparameter tuning using GridSearchCV to optimize these parameters.\n",
        "\n",
        "• Take hints from the scikit-learn documentation to guide the implementation."
      ],
      "metadata": {
        "id": "7IydWm6SIdC6"
      }
    },
    {
      "cell_type": "code",
      "source": [
        "# Import necessary libraries\n",
        "from sklearn.ensemble import RandomForestClassifier\n",
        "from sklearn.model_selection import GridSearchCV, train_test_split\n",
        "from sklearn.datasets import load_wine\n",
        "from sklearn.metrics import f1_score, classification_report\n",
        "\n",
        "# Load the Wine dataset\n",
        "data = load_wine()\n",
        "X, y = data.data, data.target\n",
        "\n",
        "# Split the dataset into training and testing sets\n",
        "X_train, X_test, y_train, y_test = train_test_split(X, y, test_size=0.3, random_state=42, stratify=y)\n",
        "\n",
        "# Initialize the Random Forest Classifier\n",
        "rf_model = RandomForestClassifier(random_state=42)\n",
        "\n",
        "# Define the parameter grid for hyperparameter tuning\n",
        "param_grid = {\n",
        "    'n_estimators': [50, 100, 200],      # Number of trees\n",
        "    'max_depth': [None, 10, 20, 30],    # Maximum depth of trees\n",
        "    'min_samples_split': [2, 5, 10]     # Minimum samples required to split a node\n",
        "}\n",
        "\n",
        "# Set up GridSearchCV\n",
        "grid_search = GridSearchCV(estimator=rf_model, param_grid=param_grid, cv=5, scoring='f1_weighted', n_jobs=-1)\n",
        "\n",
        "# Perform the grid search\n",
        "grid_search.fit(X_train, y_train)\n",
        "\n",
        "# Get the best parameters and the best estimator\n",
        "best_params = grid_search.best_params_\n",
        "best_rf_model = grid_search.best_estimator_\n",
        "\n",
        "# Evaluate the optimized model on the test set\n",
        "y_pred = best_rf_model.predict(X_test)\n",
        "f1 = f1_score(y_test, y_pred, average='weighted')\n",
        "\n",
        "# Output the results\n",
        "print(\"Best Parameters:\", best_params)\n",
        "print(\"F1 Score of Optimized Model:\", f1)\n",
        "print(\"\\nClassification Report:\\n\", classification_report(y_test, y_pred))\n"
      ],
      "metadata": {
        "colab": {
          "base_uri": "https://localhost:8080/"
        },
        "id": "PlQ2AVNfIeB4",
        "outputId": "21d6bce6-6c1d-4fde-e54c-ac4edfde968d"
      },
      "execution_count": null,
      "outputs": [
        {
          "output_type": "stream",
          "name": "stdout",
          "text": [
            "Best Parameters: {'max_depth': None, 'min_samples_split': 2, 'n_estimators': 200}\n",
            "F1 Score of Optimized Model: 1.0\n",
            "\n",
            "Classification Report:\n",
            "               precision    recall  f1-score   support\n",
            "\n",
            "           0       1.00      1.00      1.00        18\n",
            "           1       1.00      1.00      1.00        21\n",
            "           2       1.00      1.00      1.00        15\n",
            "\n",
            "    accuracy                           1.00        54\n",
            "   macro avg       1.00      1.00      1.00        54\n",
            "weighted avg       1.00      1.00      1.00        54\n",
            "\n"
          ]
        }
      ]
    },
    {
      "cell_type": "markdown",
      "source": [
        "3. Implement Regression Model:\n",
        "\n",
        "• Train a Decision Tree Regressor and a Random Forest Regressor using scikit-learn.\n",
        "\n",
        "• Identify three parameters for Random Forest Regressio and Perform hyperparameter tuning using RandomSearchCV to optimize these parameters."
      ],
      "metadata": {
        "id": "PbA0LlXtI0l6"
      }
    },
    {
      "cell_type": "code",
      "source": [
        "# Import necessary libraries\n",
        "from sklearn.datasets import load_diabetes\n",
        "from sklearn.model_selection import train_test_split, RandomizedSearchCV\n",
        "from sklearn.tree import DecisionTreeRegressor\n",
        "from sklearn.ensemble import RandomForestRegressor\n",
        "from sklearn.metrics import mean_squared_error, r2_score\n",
        "import numpy as np\n",
        "\n",
        "# Load the Diabetes dataset (you can replace this with your dataset)\n",
        "data = load_diabetes()\n",
        "X, y = data.data, data.target\n",
        "\n",
        "# Split the dataset into training and testing sets\n",
        "X_train, X_test, y_train, y_test = train_test_split(X, y, test_size=0.3, random_state=42)\n",
        "\n",
        "# Train a Decision Tree Regressor\n",
        "dt_model = DecisionTreeRegressor(random_state=42)\n",
        "dt_model.fit(X_train, y_train)\n",
        "\n",
        "# Predict with the Decision Tree Regressor\n",
        "dt_predictions = dt_model.predict(X_test)\n",
        "\n",
        "# Train a Random Forest Regressor\n",
        "rf_model = RandomForestRegressor(random_state=42)\n",
        "rf_model.fit(X_train, y_train)\n",
        "\n",
        "# Predict with the Random Forest Regressor\n",
        "rf_predictions = rf_model.predict(X_test)\n",
        "\n",
        "# Evaluate the models\n",
        "dt_mse = mean_squared_error(y_test, dt_predictions)\n",
        "rf_mse = mean_squared_error(y_test, rf_predictions)\n",
        "\n",
        "print(\"Decision Tree Regressor MSE:\", dt_mse)\n",
        "print(\"Random Forest Regressor MSE:\", rf_mse)\n",
        "\n",
        "# Perform hyperparameter tuning using RandomizedSearchCV for Random Forest Regressor\n",
        "param_distributions = {\n",
        "    'n_estimators': [50, 100, 200, 300],           # Number of trees\n",
        "    'max_depth': [None, 10, 20, 30, 40],           # Maximum depth of the trees\n",
        "    'min_samples_split': [2, 5, 10, 15, 20]        # Minimum samples required to split a node\n",
        "}\n",
        "\n",
        "random_search = RandomizedSearchCV(\n",
        "    estimator=RandomForestRegressor(random_state=42),\n",
        "    param_distributions=param_distributions,\n",
        "    n_iter=50,            # Number of random combinations to try\n",
        "    cv=5,                 # Cross-validation folds\n",
        "    scoring='neg_mean_squared_error',  # Metric for optimization\n",
        "    n_jobs=-1,            # Use all available processors\n",
        "    random_state=42\n",
        ")\n",
        "\n",
        "# Fit RandomizedSearchCV\n",
        "random_search.fit(X_train, y_train)\n",
        "\n",
        "# Get the best parameters and evaluate the optimized model\n",
        "best_params = random_search.best_params_\n",
        "best_rf_model = random_search.best_estimator_\n",
        "\n",
        "# Predict with the optimized model\n",
        "optimized_predictions = best_rf_model.predict(X_test)\n",
        "optimized_mse = mean_squared_error(y_test, optimized_predictions)\n",
        "\n",
        "print(\"\\nBest Parameters from RandomizedSearchCV:\", best_params)\n",
        "print(\"Optimized Random Forest Regressor MSE:\", optimized_mse)\n",
        "print(\"Optimized Random Forest Regressor R^2 Score:\", r2_score(y_test, optimized_predictions))\n"
      ],
      "metadata": {
        "colab": {
          "base_uri": "https://localhost:8080/"
        },
        "id": "c3IprwRZJCnE",
        "outputId": "0724cd82-c8c1-45e8-e2e2-0b2d00333e1a"
      },
      "execution_count": null,
      "outputs": [
        {
          "output_type": "stream",
          "name": "stdout",
          "text": [
            "Decision Tree Regressor MSE: 5697.789473684211\n",
            "Random Forest Regressor MSE: 2859.641982706767\n",
            "\n",
            "Best Parameters from RandomizedSearchCV: {'n_estimators': 100, 'min_samples_split': 20, 'max_depth': 30}\n",
            "Optimized Random Forest Regressor MSE: 2744.6365788651296\n",
            "Optimized Random Forest Regressor R^2 Score: 0.49157463784423416\n"
          ]
        }
      ]
    }
  ]
}